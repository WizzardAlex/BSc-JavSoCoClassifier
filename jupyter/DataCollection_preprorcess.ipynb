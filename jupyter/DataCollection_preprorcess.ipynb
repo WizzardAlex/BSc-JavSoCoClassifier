{
 "cells": [
  {
   "cell_type": "code",
   "execution_count": 1,
   "id": "favorite-cocktail",
   "metadata": {},
   "outputs": [
    {
     "name": "stderr",
     "output_type": "stream",
     "text": [
      "2021-03-24 23:46:30,870\tINFO services.py:1171 -- View the Ray dashboard at \u001b[1m\u001b[32mhttp://127.0.0.1:8265\u001b[39m\u001b[22m\n"
     ]
    }
   ],
   "source": [
    "# Imports and scripts\n",
    "#import pandas as pd\n",
    "import modin.pandas as pd\n",
    "import numpy as np\n",
    "import matplotlib.pyplot as plt\n",
    "from sklearn.metrics import plot_confusion_matrix\n",
    "from sklearn.feature_extraction.text import CountVectorizer\n",
    "import pathmagic\n",
    "%matplotlib inline\n",
    "with pathmagic.context():\n",
    "    import Preprocess as Prep\n",
    "    import RelativePaths as RP\n",
    "    import Evaluation as Eva\n",
    "import ray\n",
    "ray.init(ignore_reinit_error=True)\n",
    "%run ../script/GatherData.py"
   ]
  },
  {
   "cell_type": "code",
   "execution_count": 2,
   "id": "conditional-mistress",
   "metadata": {},
   "outputs": [
    {
     "name": "stderr",
     "output_type": "stream",
     "text": [
      "UserWarning: Distributing <class 'dict'> object. This may take some time.\n",
      "UserWarning: sort_values defaulting to pandas implementation.\n",
      "To request implementation, send an email to feature_requests@modin.org.\n"
     ]
    },
    {
     "data": {
      "text/plain": [
       "Text(0.5, 1.0, 'Shows the number of files for every label, from JabRef')"
      ]
     },
     "execution_count": 2,
     "metadata": {},
     "output_type": "execute_result"
    },
    {
     "data": {
      "image/png": "[encoded data removed]",
      "text/plain": [
       "<Figure size 432x288 with 1 Axes>"
      ]
     },
     "metadata": {},
     "output_type": "display_data"
    }
   ],
   "source": [
    "dataset_df = pd.read_csv(str(RP.getRawDataSet()))\n",
    "y_labels = dataset_df.Label.unique()\n",
    "x_quantity = [len(dataset_df.loc[dataset_df['Label']==label]) for label in y_labels]\n",
    "tmp_df = pd.DataFrame({\n",
    "    'Labels' : y_labels,\n",
    "    'Quantity' : x_quantity\n",
    "})\n",
    "tmp_df = tmp_df.sort_values(by=['Quantity'])\n",
    "plt.style.use(\"seaborn-whitegrid\")\n",
    "plt.barh(y=tmp_df.Labels, width=tmp_df.Quantity)\n",
    "for i, v in enumerate(tmp_df.Quantity):\n",
    "    plt.text(v, i, str(v), color='black', fontweight='bold', ha='left', va='center')\n",
    "\n",
    "plt.xlabel('Quantities')\n",
    "plt.ylabel('Labels')\n",
    "plt.title('Shows the number of files for every label, from JabRef')"
   ]
  },
  {
   "cell_type": "code",
   "execution_count": 3,
   "id": "heavy-nurse",
   "metadata": {},
   "outputs": [],
   "source": [
    "test_file = '../Data/test.csv'\n",
    "\"\"\"\n",
    "settings matrix\n",
    "\"\"\"\n",
    "# maxent \n",
    "s0 = [\n",
    "    ['lib', 'tow', 'jk', 'scw','lc', 'stem'],\n",
    "    ['pac', 'tow', 'jk'],\n",
    "    ]\n",
    "\n",
    "s1 = [\n",
    "    ['lib', 'tow', 'jk', 'scw','lc', 'stem'],\n",
    "    ['pac',  'tow', 'jk'],\n",
    "    ['com', 'tow', 'jk', 'scw', 'lc', 'sw'],\n",
    "]\n",
    "\n",
    "# Interestting results\n",
    "s2 = [\n",
    "    ['lib', 'tow', 'jk', 'scw','lc', 'sw', 'stem'],\n",
    "    ['pac', 'tow', 'jk', 'scw','lc', 'sw', 'stem'],\n",
    "    ['pm', 'tow', 'jk', 'scw','lc', 'sw', 'stem'],\n",
    "    ['pv', 'tow', 'jk', 'scw','lc', 'sw', 'stem'],\n",
    "    ['com', 'tow', 'jk', 'scw','lc', 'sw', 'stem'],\n",
    "    ['c', 'tow', 'jk', 'scw','lc', 'sw', 'stem'],\n",
    "]\n",
    "\n",
    "s3 = [\n",
    "    ['pac', 'tow', 'jk'],\n",
    "    ['lib', 'tow', 'scw', 'jk', 'lc', 'stem'],\n",
    "    ['pm', 'tow', 'scw', 'jk', 'lc', 'sw'],\n",
    "]\n",
    "s4 = [\n",
    "    ['pac', 'tow', 'jk',],\n",
    "    ['lib', 'tow', 'scw', 'jk', 'lc', 'stem'],\n",
    "    ['c', 'tow', 'scw', 'jk', 'lc'],\n",
    "    ['pm', 'tow', 'scw', 'jk', 'lc', 'sw', 'stem'],\n",
    "    ['pv', 'tow', 'jk', 'scw','lc', 'sw', 'stem'],\n",
    "]\n",
    "s5 = [\n",
    "    ['lib', 'tow', 'jk', 'scw','lc', 'sw', 'stem'],\n",
    "    ['pac', 'tow', 'jk'],\n",
    "    ['pm', 'tow', 'jk', 'scw','lc', 'sw'],\n",
    "    ['pv', 'tow', 'jk', 'scw','lc', 'sw', 'stem'],\n",
    "    ['com', 'tow', 'jk', 'scw','lc', 'sw', 'stem'],\n",
    "    ['c', 'tow', 'jk', 'scw','lc', 'sw', 'stem'],\n",
    "]\n",
    "s6 = [\n",
    "    ['lib', 'tow', 'jk', 'scw','lc', 'sw', 'stem'],\n",
    "    ['pac', 'tow', 'jk'],\n",
    "    ['pm', 'tow', 'jk', 'scw','lc', 'sw'],\n",
    "    ['pv', 'tow', 'jk', 'scw','lc', 'sw'],\n",
    "    ['com', 'tow', 'jk', 'scw','lc', 'sw', 'stem'],\n",
    "    ['c', 'tow', 'jk', 'scw','lc', 'sw'],\n",
    "]\n",
    "\n",
    "settings_matrix = [s0, s1, s2, s3, s4 ,s5, s6]"
   ]
  },
  {
   "cell_type": "code",
   "execution_count": 10,
   "id": "anticipated-simon",
   "metadata": {},
   "outputs": [],
   "source": [
    "def make_datafram_row(metrics, setting: list, setting_id: int ):\n",
    "    report = metrics.get_classification_report()\n",
    "    quantity_table = metrics.quantity_table()\n",
    "    setting_id = 's' + str(setting_id)\n",
    "    row = {\n",
    "        'classifier': [metrics.name],\n",
    "        'setting_id': [setting_id],\n",
    "        'settings': [setting],\n",
    "        'accuracy': [report['accuracy']],\n",
    "        'w_avg_precision': [report['weighted avg']['precision']],\n",
    "        'w_avg_recall': [report['weighted avg']['recall']],\n",
    "        'train_size': [quantity_table['Train'].sum()], \n",
    "        'test_size': [quantity_table['Test'].sum()], \n",
    "        'report_table': [metrics.total_report_table()] \n",
    "    }\n",
    "    df_row = pd.DataFrame(row)\n",
    "    return df_row"
   ]
  },
  {
   "cell_type": "code",
   "execution_count": 11,
   "id": "studied-syndication",
   "metadata": {},
   "outputs": [
    {
     "name": "stderr",
     "output_type": "stream",
     "text": [
      "UserWarning: Distributing <class 'NoneType'> object. This may take some time.\n"
     ]
    },
    {
     "name": "stdout",
     "output_type": "stream",
     "text": [
      "836\n",
      "836\n"
     ]
    },
    {
     "name": "stderr",
     "output_type": "stream",
     "text": [
      "UserWarning: Distributing <class 'dict'> object. This may take some time.\n",
      "UserWarning: `DataFrame.append` for empty DataFrame defaulting to pandas implementation.\n",
      "UserWarning: Distributing <class 'pandas.core.frame.DataFrame'> object. This may take some time.\n"
     ]
    },
    {
     "name": "stdout",
     "output_type": "stream",
     "text": [
      "836\n",
      "836\n"
     ]
    },
    {
     "name": "stderr",
     "output_type": "stream",
     "text": [
      "UserWarning: Distributing <class 'dict'> object. This may take some time.\n",
      "UserWarning: Due to https://github.com/pandas-dev/pandas/issues/35092, Pandas ignores sort=False; Modin correctly does not sort.\n"
     ]
    },
    {
     "name": "stdout",
     "output_type": "stream",
     "text": [
      "836\n",
      "836\n"
     ]
    },
    {
     "name": "stderr",
     "output_type": "stream",
     "text": [
      "UserWarning: Distributing <class 'dict'> object. This may take some time.\n",
      "UserWarning: Due to https://github.com/pandas-dev/pandas/issues/35092, Pandas ignores sort=False; Modin correctly does not sort.\n"
     ]
    },
    {
     "name": "stdout",
     "output_type": "stream",
     "text": [
      "836\n",
      "836\n"
     ]
    },
    {
     "name": "stderr",
     "output_type": "stream",
     "text": [
      "UserWarning: Distributing <class 'dict'> object. This may take some time.\n",
      "UserWarning: Due to https://github.com/pandas-dev/pandas/issues/35092, Pandas ignores sort=False; Modin correctly does not sort.\n"
     ]
    },
    {
     "name": "stdout",
     "output_type": "stream",
     "text": [
      "836\n",
      "836\n"
     ]
    },
    {
     "name": "stderr",
     "output_type": "stream",
     "text": [
      "UserWarning: Distributing <class 'dict'> object. This may take some time.\n",
      "UserWarning: Due to https://github.com/pandas-dev/pandas/issues/35092, Pandas ignores sort=False; Modin correctly does not sort.\n"
     ]
    },
    {
     "name": "stdout",
     "output_type": "stream",
     "text": [
      "836\n",
      "836\n"
     ]
    },
    {
     "name": "stderr",
     "output_type": "stream",
     "text": [
      "UserWarning: Distributing <class 'dict'> object. This may take some time.\n",
      "UserWarning: Due to https://github.com/pandas-dev/pandas/issues/35092, Pandas ignores sort=False; Modin correctly does not sort.\n"
     ]
    },
    {
     "name": "stdout",
     "output_type": "stream",
     "text": [
      "836\n",
      "836\n"
     ]
    },
    {
     "name": "stderr",
     "output_type": "stream",
     "text": [
      "UserWarning: Distributing <class 'dict'> object. This may take some time.\n",
      "UserWarning: Due to https://github.com/pandas-dev/pandas/issues/35092, Pandas ignores sort=False; Modin correctly does not sort.\n"
     ]
    },
    {
     "name": "stdout",
     "output_type": "stream",
     "text": [
      "836\n",
      "836\n"
     ]
    },
    {
     "name": "stderr",
     "output_type": "stream",
     "text": [
      "UserWarning: Distributing <class 'dict'> object. This may take some time.\n",
      "UserWarning: Due to https://github.com/pandas-dev/pandas/issues/35092, Pandas ignores sort=False; Modin correctly does not sort.\n"
     ]
    },
    {
     "name": "stdout",
     "output_type": "stream",
     "text": [
      "836\n",
      "836\n"
     ]
    },
    {
     "name": "stderr",
     "output_type": "stream",
     "text": [
      "UserWarning: Distributing <class 'dict'> object. This may take some time.\n",
      "UserWarning: Due to https://github.com/pandas-dev/pandas/issues/35092, Pandas ignores sort=False; Modin correctly does not sort.\n"
     ]
    },
    {
     "name": "stdout",
     "output_type": "stream",
     "text": [
      "836\n",
      "836\n"
     ]
    },
    {
     "name": "stderr",
     "output_type": "stream",
     "text": [
      "UserWarning: Distributing <class 'dict'> object. This may take some time.\n",
      "UserWarning: Due to https://github.com/pandas-dev/pandas/issues/35092, Pandas ignores sort=False; Modin correctly does not sort.\n"
     ]
    },
    {
     "name": "stdout",
     "output_type": "stream",
     "text": [
      "836\n",
      "836\n"
     ]
    },
    {
     "name": "stderr",
     "output_type": "stream",
     "text": [
      "UserWarning: Distributing <class 'dict'> object. This may take some time.\n",
      "UserWarning: Due to https://github.com/pandas-dev/pandas/issues/35092, Pandas ignores sort=False; Modin correctly does not sort.\n"
     ]
    },
    {
     "name": "stdout",
     "output_type": "stream",
     "text": [
      "836\n",
      "836\n"
     ]
    },
    {
     "name": "stderr",
     "output_type": "stream",
     "text": [
      "UserWarning: Distributing <class 'dict'> object. This may take some time.\n",
      "UserWarning: Due to https://github.com/pandas-dev/pandas/issues/35092, Pandas ignores sort=False; Modin correctly does not sort.\n"
     ]
    },
    {
     "name": "stdout",
     "output_type": "stream",
     "text": [
      "836\n",
      "836\n"
     ]
    },
    {
     "name": "stderr",
     "output_type": "stream",
     "text": [
      "UserWarning: Distributing <class 'dict'> object. This may take some time.\n",
      "UserWarning: Due to https://github.com/pandas-dev/pandas/issues/35092, Pandas ignores sort=False; Modin correctly does not sort.\n"
     ]
    },
    {
     "name": "stdout",
     "output_type": "stream",
     "text": [
      "836\n",
      "836\n"
     ]
    },
    {
     "name": "stderr",
     "output_type": "stream",
     "text": [
      "UserWarning: Distributing <class 'dict'> object. This may take some time.\n",
      "UserWarning: Due to https://github.com/pandas-dev/pandas/issues/35092, Pandas ignores sort=False; Modin correctly does not sort.\n"
     ]
    },
    {
     "name": "stdout",
     "output_type": "stream",
     "text": [
      "836\n",
      "836\n"
     ]
    },
    {
     "name": "stderr",
     "output_type": "stream",
     "text": [
      "UserWarning: Distributing <class 'dict'> object. This may take some time.\n",
      "UserWarning: Due to https://github.com/pandas-dev/pandas/issues/35092, Pandas ignores sort=False; Modin correctly does not sort.\n"
     ]
    },
    {
     "name": "stdout",
     "output_type": "stream",
     "text": [
      "836\n",
      "836\n"
     ]
    },
    {
     "name": "stderr",
     "output_type": "stream",
     "text": [
      "UserWarning: Distributing <class 'dict'> object. This may take some time.\n",
      "UserWarning: Due to https://github.com/pandas-dev/pandas/issues/35092, Pandas ignores sort=False; Modin correctly does not sort.\n"
     ]
    },
    {
     "name": "stdout",
     "output_type": "stream",
     "text": [
      "836\n",
      "836\n"
     ]
    },
    {
     "name": "stderr",
     "output_type": "stream",
     "text": [
      "UserWarning: Distributing <class 'dict'> object. This may take some time.\n",
      "UserWarning: Due to https://github.com/pandas-dev/pandas/issues/35092, Pandas ignores sort=False; Modin correctly does not sort.\n"
     ]
    },
    {
     "name": "stdout",
     "output_type": "stream",
     "text": [
      "836\n",
      "836\n"
     ]
    },
    {
     "name": "stderr",
     "output_type": "stream",
     "text": [
      "UserWarning: Distributing <class 'dict'> object. This may take some time.\n",
      "UserWarning: Due to https://github.com/pandas-dev/pandas/issues/35092, Pandas ignores sort=False; Modin correctly does not sort.\n"
     ]
    },
    {
     "name": "stdout",
     "output_type": "stream",
     "text": [
      "836\n",
      "836\n"
     ]
    },
    {
     "name": "stderr",
     "output_type": "stream",
     "text": [
      "UserWarning: Distributing <class 'dict'> object. This may take some time.\n",
      "UserWarning: Due to https://github.com/pandas-dev/pandas/issues/35092, Pandas ignores sort=False; Modin correctly does not sort.\n"
     ]
    },
    {
     "name": "stdout",
     "output_type": "stream",
     "text": [
      "836\n",
      "836\n"
     ]
    },
    {
     "name": "stderr",
     "output_type": "stream",
     "text": [
      "UserWarning: Distributing <class 'dict'> object. This may take some time.\n",
      "UserWarning: Due to https://github.com/pandas-dev/pandas/issues/35092, Pandas ignores sort=False; Modin correctly does not sort.\n"
     ]
    },
    {
     "name": "stdout",
     "output_type": "stream",
     "text": [
      "836\n",
      "836\n"
     ]
    },
    {
     "name": "stderr",
     "output_type": "stream",
     "text": [
      "UserWarning: Distributing <class 'dict'> object. This may take some time.\n",
      "UserWarning: Due to https://github.com/pandas-dev/pandas/issues/35092, Pandas ignores sort=False; Modin correctly does not sort.\n"
     ]
    }
   ],
   "source": [
    "df_columns = [\n",
    "    'classifier',\n",
    "    'setting_id',\n",
    "    'settings', \n",
    "    'accuracy', \n",
    "    'w_avg_precision', \n",
    "    'w_avg_recall', \n",
    "    'train_size', \n",
    "    'test_size', \n",
    "    'report_table' \n",
    "]\n",
    "main_table = pd.DataFrame(columns=df_columns)\n",
    "test_size=0.9\n",
    "fold_quantity = 10\n",
    "\n",
    "for index, setting in enumerate(settings_matrix):\n",
    "    Prep.preprocess_settings(setting, test_file)\n",
    "    test_df = pd.read_csv(test_file)\n",
    "\n",
    "    # Remove GLOBALS and CLI from the dataset\n",
    "    df_sliced = Eva.filter_unwanted_labels(test_df, 'Label', ['GLOBALS', 'CLI'])\n",
    "\n",
    "    feature_representation = CountVectorizer()\n",
    "    confusion_list = []\n",
    "\n",
    "    # Train and gather evaluation metrics\n",
    "    evaluate = Eva.Evaluation(df_sliced, feature_representation, test_size, fold_quantity, 10)\n",
    "    classifier_max_ent , metrics_max_ent = evaluate.evaluate_MaxEnt()\n",
    "    classifier_svm , metrics_svm = evaluate.evaluate_SVM()\n",
    "    classifier_naive, metrics_naive = evaluate.evaluate_Naive_Bayes()\n",
    "    \n",
    "    \n",
    "    df_row = make_datafram_row(metrics_max_ent, setting, index)\n",
    "    main_table = main_table.append(df_row)\n",
    "\n",
    "    df_row = make_datafram_row(metrics_svm, setting, index)\n",
    "    main_table = main_table.append(df_row)\n",
    "    \n",
    "    df_row = make_datafram_row(metrics_naive, setting, index)\n",
    "    main_table = main_table.append(df_row)\n",
    "\n",
    "main_table = main_table.reset_index(drop=True)\n",
    "main_table.to_csv('../Data/analysis.csv')"
   ]
  },
  {
   "cell_type": "code",
   "execution_count": 12,
   "id": "fitting-lexington",
   "metadata": {},
   "outputs": [
    {
     "data": {
      "text/html": [
       "<div>\n",
       "<style scoped>\n",
       "    .dataframe tbody tr th:only-of-type {\n",
       "        vertical-align: middle;\n",
       "    }\n",
       "\n",
       "    .dataframe tbody tr th {\n",
       "        vertical-align: top;\n",
       "    }\n",
       "\n",
       "    .dataframe thead th {\n",
       "        text-align: right;\n",
       "    }\n",
       "</style>\n",
       "<table border=\"1\" class=\"dataframe\">\n",
       "  <thead>\n",
       "    <tr style=\"text-align: right;\">\n",
       "      <th></th>\n",
       "      <th>classifier</th>\n",
       "      <th>setting_id</th>\n",
       "      <th>settings</th>\n",
       "      <th>accuracy</th>\n",
       "      <th>w_avg_precision</th>\n",
       "      <th>w_avg_recall</th>\n",
       "      <th>train_size</th>\n",
       "      <th>test_size</th>\n",
       "      <th>report_table</th>\n",
       "    </tr>\n",
       "  </thead>\n",
       "  <tbody>\n",
       "    <tr>\n",
       "      <th>0</th>\n",
       "      <td>MaxEnt</td>\n",
       "      <td>s0</td>\n",
       "      <td>[[lib, tow, jk, scw, lc, stem], [pac, tow, jk]]</td>\n",
       "      <td>0.922975</td>\n",
       "      <td>0.938585</td>\n",
       "      <td>0.922975</td>\n",
       "      <td>83</td>\n",
       "      <td>753</td>\n",
       "      <td>GUI       LOGIC      MODEL  ...</td>\n",
       "    </tr>\n",
       "    <tr>\n",
       "      <th>1</th>\n",
       "      <td>SVM</td>\n",
       "      <td>s0</td>\n",
       "      <td>[[lib, tow, jk, scw, lc, stem], [pac, tow, jk]]</td>\n",
       "      <td>0.941567</td>\n",
       "      <td>0.937786</td>\n",
       "      <td>0.941567</td>\n",
       "      <td>83</td>\n",
       "      <td>753</td>\n",
       "      <td>GUI       LOGIC      MODEL  ...</td>\n",
       "    </tr>\n",
       "    <tr>\n",
       "      <th>2</th>\n",
       "      <td>Naive-Bayes</td>\n",
       "      <td>s0</td>\n",
       "      <td>[[lib, tow, jk, scw, lc, stem], [pac, tow, jk]]</td>\n",
       "      <td>0.917663</td>\n",
       "      <td>0.917277</td>\n",
       "      <td>0.917663</td>\n",
       "      <td>83</td>\n",
       "      <td>753</td>\n",
       "      <td>GUI       LOGIC      MODEL  ...</td>\n",
       "    </tr>\n",
       "    <tr>\n",
       "      <th>3</th>\n",
       "      <td>MaxEnt</td>\n",
       "      <td>s1</td>\n",
       "      <td>[[lib, tow, jk, scw, lc, stem], [pac, tow, jk]...</td>\n",
       "      <td>0.865870</td>\n",
       "      <td>0.865320</td>\n",
       "      <td>0.865870</td>\n",
       "      <td>83</td>\n",
       "      <td>753</td>\n",
       "      <td>GUI       LOGIC      MODEL  ...</td>\n",
       "    </tr>\n",
       "    <tr>\n",
       "      <th>4</th>\n",
       "      <td>SVM</td>\n",
       "      <td>s1</td>\n",
       "      <td>[[lib, tow, jk, scw, lc, stem], [pac, tow, jk]...</td>\n",
       "      <td>0.873838</td>\n",
       "      <td>0.873690</td>\n",
       "      <td>0.873838</td>\n",
       "      <td>83</td>\n",
       "      <td>753</td>\n",
       "      <td>GUI       LOGIC      MODEL  ...</td>\n",
       "    </tr>\n",
       "    <tr>\n",
       "      <th>5</th>\n",
       "      <td>Naive-Bayes</td>\n",
       "      <td>s1</td>\n",
       "      <td>[[lib, tow, jk, scw, lc, stem], [pac, tow, jk]...</td>\n",
       "      <td>0.806109</td>\n",
       "      <td>0.804174</td>\n",
       "      <td>0.806109</td>\n",
       "      <td>83</td>\n",
       "      <td>753</td>\n",
       "      <td>GUI       LOGIC      MODEL  ...</td>\n",
       "    </tr>\n",
       "    <tr>\n",
       "      <th>6</th>\n",
       "      <td>MaxEnt</td>\n",
       "      <td>s2</td>\n",
       "      <td>[[lib, tow, jk, scw, lc, sw, stem], [pac, tow,...</td>\n",
       "      <td>0.788845</td>\n",
       "      <td>0.796223</td>\n",
       "      <td>0.788845</td>\n",
       "      <td>83</td>\n",
       "      <td>753</td>\n",
       "      <td>GUI       LOGIC      MODEL  ...</td>\n",
       "    </tr>\n",
       "    <tr>\n",
       "      <th>7</th>\n",
       "      <td>SVM</td>\n",
       "      <td>s2</td>\n",
       "      <td>[[lib, tow, jk, scw, lc, sw, stem], [pac, tow,...</td>\n",
       "      <td>0.767596</td>\n",
       "      <td>0.774274</td>\n",
       "      <td>0.767596</td>\n",
       "      <td>83</td>\n",
       "      <td>753</td>\n",
       "      <td>GUI       LOGIC      MODEL  ...</td>\n",
       "    </tr>\n",
       "    <tr>\n",
       "      <th>8</th>\n",
       "      <td>Naive-Bayes</td>\n",
       "      <td>s2</td>\n",
       "      <td>[[lib, tow, jk, scw, lc, sw, stem], [pac, tow,...</td>\n",
       "      <td>0.814077</td>\n",
       "      <td>0.804238</td>\n",
       "      <td>0.814077</td>\n",
       "      <td>83</td>\n",
       "      <td>753</td>\n",
       "      <td>GUI       LOGIC      MODEL  ...</td>\n",
       "    </tr>\n",
       "    <tr>\n",
       "      <th>9</th>\n",
       "      <td>MaxEnt</td>\n",
       "      <td>s3</td>\n",
       "      <td>[[pac, tow, jk], [lib, tow, scw, jk, lc, stem]...</td>\n",
       "      <td>0.863214</td>\n",
       "      <td>0.880546</td>\n",
       "      <td>0.863214</td>\n",
       "      <td>83</td>\n",
       "      <td>753</td>\n",
       "      <td>GUI       LOGIC      MODEL  ...</td>\n",
       "    </tr>\n",
       "    <tr>\n",
       "      <th>10</th>\n",
       "      <td>SVM</td>\n",
       "      <td>s3</td>\n",
       "      <td>[[pac, tow, jk], [lib, tow, scw, jk, lc, stem]...</td>\n",
       "      <td>0.828685</td>\n",
       "      <td>0.834106</td>\n",
       "      <td>0.828685</td>\n",
       "      <td>83</td>\n",
       "      <td>753</td>\n",
       "      <td>GUI       LOGIC      MODEL  ...</td>\n",
       "    </tr>\n",
       "    <tr>\n",
       "      <th>11</th>\n",
       "      <td>Naive-Bayes</td>\n",
       "      <td>s3</td>\n",
       "      <td>[[pac, tow, jk], [lib, tow, scw, jk, lc, stem]...</td>\n",
       "      <td>0.853918</td>\n",
       "      <td>0.848229</td>\n",
       "      <td>0.853918</td>\n",
       "      <td>83</td>\n",
       "      <td>753</td>\n",
       "      <td>GUI       LOGIC      MODEL  ...</td>\n",
       "    </tr>\n",
       "    <tr>\n",
       "      <th>12</th>\n",
       "      <td>MaxEnt</td>\n",
       "      <td>s4</td>\n",
       "      <td>[[pac, tow, jk], [lib, tow, scw, jk, lc, stem]...</td>\n",
       "      <td>0.841965</td>\n",
       "      <td>0.851827</td>\n",
       "      <td>0.841965</td>\n",
       "      <td>83</td>\n",
       "      <td>753</td>\n",
       "      <td>GUI       LOGIC      MODEL  ...</td>\n",
       "    </tr>\n",
       "    <tr>\n",
       "      <th>13</th>\n",
       "      <td>SVM</td>\n",
       "      <td>s4</td>\n",
       "      <td>[[pac, tow, jk], [lib, tow, scw, jk, lc, stem]...</td>\n",
       "      <td>0.799469</td>\n",
       "      <td>0.791331</td>\n",
       "      <td>0.799469</td>\n",
       "      <td>83</td>\n",
       "      <td>753</td>\n",
       "      <td>GUI       LOGIC      MODEL  ...</td>\n",
       "    </tr>\n",
       "    <tr>\n",
       "      <th>14</th>\n",
       "      <td>Naive-Bayes</td>\n",
       "      <td>s4</td>\n",
       "      <td>[[pac, tow, jk], [lib, tow, scw, jk, lc, stem]...</td>\n",
       "      <td>0.839309</td>\n",
       "      <td>0.826822</td>\n",
       "      <td>0.839309</td>\n",
       "      <td>83</td>\n",
       "      <td>753</td>\n",
       "      <td>GUI       LOGIC      MODEL  ...</td>\n",
       "    </tr>\n",
       "    <tr>\n",
       "      <th>15</th>\n",
       "      <td>MaxEnt</td>\n",
       "      <td>s5</td>\n",
       "      <td>[[lib, tow, jk, scw, lc, sw, stem], [pac, tow,...</td>\n",
       "      <td>0.791501</td>\n",
       "      <td>0.815109</td>\n",
       "      <td>0.791501</td>\n",
       "      <td>83</td>\n",
       "      <td>753</td>\n",
       "      <td>GUI       LOGIC      MODEL  ...</td>\n",
       "    </tr>\n",
       "    <tr>\n",
       "      <th>16</th>\n",
       "      <td>SVM</td>\n",
       "      <td>s5</td>\n",
       "      <td>[[lib, tow, jk, scw, lc, sw, stem], [pac, tow,...</td>\n",
       "      <td>0.764940</td>\n",
       "      <td>0.773353</td>\n",
       "      <td>0.764940</td>\n",
       "      <td>83</td>\n",
       "      <td>753</td>\n",
       "      <td>GUI       LOGIC      MODEL  ...</td>\n",
       "    </tr>\n",
       "    <tr>\n",
       "      <th>17</th>\n",
       "      <td>Naive-Bayes</td>\n",
       "      <td>s5</td>\n",
       "      <td>[[lib, tow, jk, scw, lc, sw, stem], [pac, tow,...</td>\n",
       "      <td>0.823373</td>\n",
       "      <td>0.811685</td>\n",
       "      <td>0.823373</td>\n",
       "      <td>83</td>\n",
       "      <td>753</td>\n",
       "      <td>GUI       LOGIC      MODEL  ...</td>\n",
       "    </tr>\n",
       "    <tr>\n",
       "      <th>18</th>\n",
       "      <td>MaxEnt</td>\n",
       "      <td>s6</td>\n",
       "      <td>[[lib, tow, jk, scw, lc, sw, stem], [pac, tow,...</td>\n",
       "      <td>0.792829</td>\n",
       "      <td>0.811704</td>\n",
       "      <td>0.792829</td>\n",
       "      <td>83</td>\n",
       "      <td>753</td>\n",
       "      <td>GUI       LOGIC      MODEL  ...</td>\n",
       "    </tr>\n",
       "    <tr>\n",
       "      <th>19</th>\n",
       "      <td>SVM</td>\n",
       "      <td>s6</td>\n",
       "      <td>[[lib, tow, jk, scw, lc, sw, stem], [pac, tow,...</td>\n",
       "      <td>0.776892</td>\n",
       "      <td>0.770075</td>\n",
       "      <td>0.776892</td>\n",
       "      <td>83</td>\n",
       "      <td>753</td>\n",
       "      <td>GUI       LOGIC      MODEL  ...</td>\n",
       "    </tr>\n",
       "    <tr>\n",
       "      <th>20</th>\n",
       "      <td>Naive-Bayes</td>\n",
       "      <td>s6</td>\n",
       "      <td>[[lib, tow, jk, scw, lc, sw, stem], [pac, tow,...</td>\n",
       "      <td>0.826029</td>\n",
       "      <td>0.814495</td>\n",
       "      <td>0.826029</td>\n",
       "      <td>83</td>\n",
       "      <td>753</td>\n",
       "      <td>GUI       LOGIC      MODEL  ...</td>\n",
       "    </tr>\n",
       "  </tbody>\n",
       "</table>\n",
       "</div>"
      ],
      "text/plain": [
       "     classifier setting_id                                           settings  \\\n",
       "0        MaxEnt         s0    [[lib, tow, jk, scw, lc, stem], [pac, tow, jk]]   \n",
       "1           SVM         s0    [[lib, tow, jk, scw, lc, stem], [pac, tow, jk]]   \n",
       "2   Naive-Bayes         s0    [[lib, tow, jk, scw, lc, stem], [pac, tow, jk]]   \n",
       "3        MaxEnt         s1  [[lib, tow, jk, scw, lc, stem], [pac, tow, jk]...   \n",
       "4           SVM         s1  [[lib, tow, jk, scw, lc, stem], [pac, tow, jk]...   \n",
       "5   Naive-Bayes         s1  [[lib, tow, jk, scw, lc, stem], [pac, tow, jk]...   \n",
       "6        MaxEnt         s2  [[lib, tow, jk, scw, lc, sw, stem], [pac, tow,...   \n",
       "7           SVM         s2  [[lib, tow, jk, scw, lc, sw, stem], [pac, tow,...   \n",
       "8   Naive-Bayes         s2  [[lib, tow, jk, scw, lc, sw, stem], [pac, tow,...   \n",
       "9        MaxEnt         s3  [[pac, tow, jk], [lib, tow, scw, jk, lc, stem]...   \n",
       "10          SVM         s3  [[pac, tow, jk], [lib, tow, scw, jk, lc, stem]...   \n",
       "11  Naive-Bayes         s3  [[pac, tow, jk], [lib, tow, scw, jk, lc, stem]...   \n",
       "12       MaxEnt         s4  [[pac, tow, jk], [lib, tow, scw, jk, lc, stem]...   \n",
       "13          SVM         s4  [[pac, tow, jk], [lib, tow, scw, jk, lc, stem]...   \n",
       "14  Naive-Bayes         s4  [[pac, tow, jk], [lib, tow, scw, jk, lc, stem]...   \n",
       "15       MaxEnt         s5  [[lib, tow, jk, scw, lc, sw, stem], [pac, tow,...   \n",
       "16          SVM         s5  [[lib, tow, jk, scw, lc, sw, stem], [pac, tow,...   \n",
       "17  Naive-Bayes         s5  [[lib, tow, jk, scw, lc, sw, stem], [pac, tow,...   \n",
       "18       MaxEnt         s6  [[lib, tow, jk, scw, lc, sw, stem], [pac, tow,...   \n",
       "19          SVM         s6  [[lib, tow, jk, scw, lc, sw, stem], [pac, tow,...   \n",
       "20  Naive-Bayes         s6  [[lib, tow, jk, scw, lc, sw, stem], [pac, tow,...   \n",
       "\n",
       "    accuracy  w_avg_precision  w_avg_recall train_size test_size  \\\n",
       "0   0.922975         0.938585      0.922975         83       753   \n",
       "1   0.941567         0.937786      0.941567         83       753   \n",
       "2   0.917663         0.917277      0.917663         83       753   \n",
       "3   0.865870         0.865320      0.865870         83       753   \n",
       "4   0.873838         0.873690      0.873838         83       753   \n",
       "5   0.806109         0.804174      0.806109         83       753   \n",
       "6   0.788845         0.796223      0.788845         83       753   \n",
       "7   0.767596         0.774274      0.767596         83       753   \n",
       "8   0.814077         0.804238      0.814077         83       753   \n",
       "9   0.863214         0.880546      0.863214         83       753   \n",
       "10  0.828685         0.834106      0.828685         83       753   \n",
       "11  0.853918         0.848229      0.853918         83       753   \n",
       "12  0.841965         0.851827      0.841965         83       753   \n",
       "13  0.799469         0.791331      0.799469         83       753   \n",
       "14  0.839309         0.826822      0.839309         83       753   \n",
       "15  0.791501         0.815109      0.791501         83       753   \n",
       "16  0.764940         0.773353      0.764940         83       753   \n",
       "17  0.823373         0.811685      0.823373         83       753   \n",
       "18  0.792829         0.811704      0.792829         83       753   \n",
       "19  0.776892         0.770075      0.776892         83       753   \n",
       "20  0.826029         0.814495      0.826029         83       753   \n",
       "\n",
       "                                         report_table  \n",
       "0                     GUI       LOGIC      MODEL  ...  \n",
       "1                     GUI       LOGIC      MODEL  ...  \n",
       "2                     GUI       LOGIC      MODEL  ...  \n",
       "3                     GUI       LOGIC      MODEL  ...  \n",
       "4                     GUI       LOGIC      MODEL  ...  \n",
       "5                     GUI       LOGIC      MODEL  ...  \n",
       "6                     GUI       LOGIC      MODEL  ...  \n",
       "7                     GUI       LOGIC      MODEL  ...  \n",
       "8                     GUI       LOGIC      MODEL  ...  \n",
       "9                     GUI       LOGIC      MODEL  ...  \n",
       "10                    GUI       LOGIC      MODEL  ...  \n",
       "11                    GUI       LOGIC      MODEL  ...  \n",
       "12                    GUI       LOGIC      MODEL  ...  \n",
       "13                    GUI       LOGIC      MODEL  ...  \n",
       "14                    GUI       LOGIC      MODEL  ...  \n",
       "15                    GUI       LOGIC      MODEL  ...  \n",
       "16                    GUI       LOGIC      MODEL  ...  \n",
       "17                    GUI       LOGIC      MODEL  ...  \n",
       "18                    GUI       LOGIC      MODEL  ...  \n",
       "19                    GUI       LOGIC      MODEL  ...  \n",
       "20                    GUI       LOGIC      MODEL  ...  "
      ]
     },
     "execution_count": 12,
     "metadata": {},
     "output_type": "execute_result"
    },
    {
     "name": "stderr",
     "output_type": "stream",
     "text": [
      "2021-03-25 00:08:16,685\tERROR worker.py:980 -- Possible unhandled error from worker: \u001b[36mray::deploy_ray_func()\u001b[39m (pid=814548, ip=10.8.8.17)\n",
      "  File \"python/ray/_raylet.pyx\", line 463, in ray._raylet.execute_task\n",
      "  File \"/home/alex/dotfiles/python_venvs/exjobb_labEnv/lib/python3.8/site-packages/modin/engines/ray/pandas_on_ray/frame/axis_partition.py\", line 114, in deploy_ray_func\n",
      "    result = func(*args)\n",
      "  File \"/home/alex/dotfiles/python_venvs/exjobb_labEnv/lib/python3.8/site-packages/modin/engines/base/frame/axis_partition.py\", line 294, in deploy_axis_func\n",
      "    if sum(lengths) != len(result.columns):\n",
      "AttributeError: 'int' object has no attribute 'columns'\n",
      "2021-03-25 00:08:17,686\tERROR worker.py:980 -- Possible unhandled error from worker: \u001b[36mray::deploy_ray_func()\u001b[39m (pid=814527, ip=10.8.8.17)\n",
      "  File \"python/ray/_raylet.pyx\", line 463, in ray._raylet.execute_task\n",
      "  File \"/home/alex/dotfiles/python_venvs/exjobb_labEnv/lib/python3.8/site-packages/modin/engines/ray/pandas_on_ray/frame/axis_partition.py\", line 114, in deploy_ray_func\n",
      "    result = func(*args)\n",
      "  File \"/home/alex/dotfiles/python_venvs/exjobb_labEnv/lib/python3.8/site-packages/modin/engines/base/frame/axis_partition.py\", line 294, in deploy_axis_func\n",
      "    if sum(lengths) != len(result.columns):\n",
      "AttributeError: 'int' object has no attribute 'columns'\n",
      "2021-03-25 00:08:17,687\tERROR worker.py:980 -- Possible unhandled error from worker: \u001b[36mray::deploy_ray_func()\u001b[39m (pid=814529, ip=10.8.8.17)\n",
      "  File \"python/ray/_raylet.pyx\", line 463, in ray._raylet.execute_task\n",
      "  File \"/home/alex/dotfiles/python_venvs/exjobb_labEnv/lib/python3.8/site-packages/modin/engines/ray/pandas_on_ray/frame/axis_partition.py\", line 114, in deploy_ray_func\n",
      "    result = func(*args)\n",
      "  File \"/home/alex/dotfiles/python_venvs/exjobb_labEnv/lib/python3.8/site-packages/modin/engines/base/frame/axis_partition.py\", line 294, in deploy_axis_func\n",
      "    if sum(lengths) != len(result.columns):\n",
      "AttributeError: 'int' object has no attribute 'columns'\n",
      "2021-03-25 00:08:17,687\tERROR worker.py:980 -- Possible unhandled error from worker: \u001b[36mray::deploy_ray_func()\u001b[39m (pid=814542, ip=10.8.8.17)\n",
      "  File \"python/ray/_raylet.pyx\", line 463, in ray._raylet.execute_task\n",
      "  File \"/home/alex/dotfiles/python_venvs/exjobb_labEnv/lib/python3.8/site-packages/modin/engines/ray/pandas_on_ray/frame/axis_partition.py\", line 114, in deploy_ray_func\n",
      "    result = func(*args)\n",
      "  File \"/home/alex/dotfiles/python_venvs/exjobb_labEnv/lib/python3.8/site-packages/modin/engines/base/frame/axis_partition.py\", line 294, in deploy_axis_func\n",
      "    if sum(lengths) != len(result.columns):\n",
      "AttributeError: 'int' object has no attribute 'columns'\n",
      "2021-03-25 00:08:17,688\tERROR worker.py:980 -- Possible unhandled error from worker: \u001b[36mray::deploy_ray_func()\u001b[39m (pid=814533, ip=10.8.8.17)\n",
      "  File \"python/ray/_raylet.pyx\", line 463, in ray._raylet.execute_task\n",
      "  File \"/home/alex/dotfiles/python_venvs/exjobb_labEnv/lib/python3.8/site-packages/modin/engines/ray/pandas_on_ray/frame/axis_partition.py\", line 114, in deploy_ray_func\n",
      "    result = func(*args)\n",
      "  File \"/home/alex/dotfiles/python_venvs/exjobb_labEnv/lib/python3.8/site-packages/modin/engines/base/frame/axis_partition.py\", line 294, in deploy_axis_func\n",
      "    if sum(lengths) != len(result.columns):\n",
      "AttributeError: 'int' object has no attribute 'columns'\n",
      "2021-03-25 00:08:17,688\tERROR worker.py:980 -- Possible unhandled error from worker: \u001b[36mray::deploy_ray_func()\u001b[39m (pid=814540, ip=10.8.8.17)\n",
      "  File \"python/ray/_raylet.pyx\", line 463, in ray._raylet.execute_task\n",
      "  File \"/home/alex/dotfiles/python_venvs/exjobb_labEnv/lib/python3.8/site-packages/modin/engines/ray/pandas_on_ray/frame/axis_partition.py\", line 114, in deploy_ray_func\n",
      "    result = func(*args)\n",
      "  File \"/home/alex/dotfiles/python_venvs/exjobb_labEnv/lib/python3.8/site-packages/modin/engines/base/frame/axis_partition.py\", line 294, in deploy_axis_func\n",
      "    if sum(lengths) != len(result.columns):\n",
      "AttributeError: 'int' object has no attribute 'columns'\n",
      "2021-03-25 00:08:17,689\tERROR worker.py:980 -- Possible unhandled error from worker: \u001b[36mray::deploy_ray_func()\u001b[39m (pid=749967, ip=10.8.8.17)\n",
      "  File \"python/ray/_raylet.pyx\", line 463, in ray._raylet.execute_task\n",
      "  File \"/home/alex/dotfiles/python_venvs/exjobb_labEnv/lib/python3.8/site-packages/modin/engines/ray/pandas_on_ray/frame/axis_partition.py\", line 114, in deploy_ray_func\n",
      "    result = func(*args)\n",
      "  File \"/home/alex/dotfiles/python_venvs/exjobb_labEnv/lib/python3.8/site-packages/modin/engines/base/frame/axis_partition.py\", line 294, in deploy_axis_func\n",
      "    if sum(lengths) != len(result.columns):\n",
      "AttributeError: 'int' object has no attribute 'columns'\n",
      "2021-03-25 00:08:17,689\tERROR worker.py:980 -- Possible unhandled error from worker: \u001b[36mray::deploy_ray_func()\u001b[39m (pid=814541, ip=10.8.8.17)\n",
      "  File \"python/ray/_raylet.pyx\", line 463, in ray._raylet.execute_task\n",
      "  File \"/home/alex/dotfiles/python_venvs/exjobb_labEnv/lib/python3.8/site-packages/modin/engines/ray/pandas_on_ray/frame/axis_partition.py\", line 114, in deploy_ray_func\n",
      "    result = func(*args)\n",
      "  File \"/home/alex/dotfiles/python_venvs/exjobb_labEnv/lib/python3.8/site-packages/modin/engines/base/frame/axis_partition.py\", line 294, in deploy_axis_func\n",
      "    if sum(lengths) != len(result.columns):\n",
      "AttributeError: 'int' object has no attribute 'columns'\n",
      "2021-03-25 00:08:17,689\tERROR worker.py:980 -- Possible unhandled error from worker: \u001b[36mray::deploy_ray_func()\u001b[39m (pid=814531, ip=10.8.8.17)\n",
      "  File \"python/ray/_raylet.pyx\", line 463, in ray._raylet.execute_task\n",
      "  File \"/home/alex/dotfiles/python_venvs/exjobb_labEnv/lib/python3.8/site-packages/modin/engines/ray/pandas_on_ray/frame/axis_partition.py\", line 114, in deploy_ray_func\n",
      "    result = func(*args)\n",
      "  File \"/home/alex/dotfiles/python_venvs/exjobb_labEnv/lib/python3.8/site-packages/modin/engines/base/frame/axis_partition.py\", line 294, in deploy_axis_func\n",
      "    if sum(lengths) != len(result.columns):\n",
      "AttributeError: 'int' object has no attribute 'columns'\n",
      "2021-03-25 00:08:17,690\tERROR worker.py:980 -- Possible unhandled error from worker: \u001b[36mray::deploy_ray_func()\u001b[39m (pid=814534, ip=10.8.8.17)\n",
      "  File \"python/ray/_raylet.pyx\", line 463, in ray._raylet.execute_task\n",
      "  File \"/home/alex/dotfiles/python_venvs/exjobb_labEnv/lib/python3.8/site-packages/modin/engines/ray/pandas_on_ray/frame/axis_partition.py\", line 114, in deploy_ray_func\n",
      "    result = func(*args)\n",
      "  File \"/home/alex/dotfiles/python_venvs/exjobb_labEnv/lib/python3.8/site-packages/modin/engines/base/frame/axis_partition.py\", line 294, in deploy_axis_func\n",
      "    if sum(lengths) != len(result.columns):\n",
      "AttributeError: 'int' object has no attribute 'columns'\n",
      "2021-03-25 00:08:17,690\tERROR worker.py:980 -- Possible unhandled error from worker: \u001b[36mray::deploy_ray_func()\u001b[39m (pid=749978, ip=10.8.8.17)\n",
      "  File \"python/ray/_raylet.pyx\", line 463, in ray._raylet.execute_task\n",
      "  File \"/home/alex/dotfiles/python_venvs/exjobb_labEnv/lib/python3.8/site-packages/modin/engines/ray/pandas_on_ray/frame/axis_partition.py\", line 114, in deploy_ray_func\n",
      "    result = func(*args)\n",
      "  File \"/home/alex/dotfiles/python_venvs/exjobb_labEnv/lib/python3.8/site-packages/modin/engines/base/frame/axis_partition.py\", line 294, in deploy_axis_func\n",
      "    if sum(lengths) != len(result.columns):\n",
      "AttributeError: 'int' object has no attribute 'columns'\n",
      "2021-03-25 00:08:17,690\tERROR worker.py:980 -- Possible unhandled error from worker: \u001b[36mray::deploy_ray_func()\u001b[39m (pid=814548, ip=10.8.8.17)\n",
      "  File \"python/ray/_raylet.pyx\", line 463, in ray._raylet.execute_task\n",
      "  File \"/home/alex/dotfiles/python_venvs/exjobb_labEnv/lib/python3.8/site-packages/modin/engines/ray/pandas_on_ray/frame/axis_partition.py\", line 114, in deploy_ray_func\n",
      "    result = func(*args)\n",
      "  File \"/home/alex/dotfiles/python_venvs/exjobb_labEnv/lib/python3.8/site-packages/modin/engines/base/frame/axis_partition.py\", line 294, in deploy_axis_func\n",
      "    if sum(lengths) != len(result.columns):\n",
      "AttributeError: 'int' object has no attribute 'columns'\n",
      "2021-03-25 00:08:17,690\tERROR worker.py:980 -- Possible unhandled error from worker: \u001b[36mray::deploy_ray_func()\u001b[39m (pid=814527, ip=10.8.8.17)\n",
      "  File \"python/ray/_raylet.pyx\", line 463, in ray._raylet.execute_task\n",
      "  File \"/home/alex/dotfiles/python_venvs/exjobb_labEnv/lib/python3.8/site-packages/modin/engines/ray/pandas_on_ray/frame/axis_partition.py\", line 114, in deploy_ray_func\n",
      "    result = func(*args)\n",
      "  File \"/home/alex/dotfiles/python_venvs/exjobb_labEnv/lib/python3.8/site-packages/modin/engines/base/frame/axis_partition.py\", line 294, in deploy_axis_func\n",
      "    if sum(lengths) != len(result.columns):\n",
      "AttributeError: 'int' object has no attribute 'columns'\n",
      "2021-03-25 00:08:17,691\tERROR worker.py:980 -- Possible unhandled error from worker: \u001b[36mray::deploy_ray_func()\u001b[39m (pid=814529, ip=10.8.8.17)\n",
      "  File \"python/ray/_raylet.pyx\", line 463, in ray._raylet.execute_task\n",
      "  File \"/home/alex/dotfiles/python_venvs/exjobb_labEnv/lib/python3.8/site-packages/modin/engines/ray/pandas_on_ray/frame/axis_partition.py\", line 114, in deploy_ray_func\n",
      "    result = func(*args)\n",
      "  File \"/home/alex/dotfiles/python_venvs/exjobb_labEnv/lib/python3.8/site-packages/modin/engines/base/frame/axis_partition.py\", line 294, in deploy_axis_func\n",
      "    if sum(lengths) != len(result.columns):\n",
      "AttributeError: 'int' object has no attribute 'columns'\n",
      "2021-03-25 00:08:17,691\tERROR worker.py:980 -- Possible unhandled error from worker: \u001b[36mray::deploy_ray_func()\u001b[39m (pid=749967, ip=10.8.8.17)\n",
      "  File \"python/ray/_raylet.pyx\", line 463, in ray._raylet.execute_task\n",
      "  File \"/home/alex/dotfiles/python_venvs/exjobb_labEnv/lib/python3.8/site-packages/modin/engines/ray/pandas_on_ray/frame/axis_partition.py\", line 114, in deploy_ray_func\n",
      "    result = func(*args)\n",
      "  File \"/home/alex/dotfiles/python_venvs/exjobb_labEnv/lib/python3.8/site-packages/modin/engines/base/frame/axis_partition.py\", line 294, in deploy_axis_func\n",
      "    if sum(lengths) != len(result.columns):\n",
      "AttributeError: 'int' object has no attribute 'columns'\n",
      "2021-03-25 00:08:17,691\tERROR worker.py:980 -- Possible unhandled error from worker: \u001b[36mray::deploy_ray_func()\u001b[39m (pid=814542, ip=10.8.8.17)\n",
      "  File \"python/ray/_raylet.pyx\", line 463, in ray._raylet.execute_task\n",
      "  File \"/home/alex/dotfiles/python_venvs/exjobb_labEnv/lib/python3.8/site-packages/modin/engines/ray/pandas_on_ray/frame/axis_partition.py\", line 114, in deploy_ray_func\n",
      "    result = func(*args)\n",
      "  File \"/home/alex/dotfiles/python_venvs/exjobb_labEnv/lib/python3.8/site-packages/modin/engines/base/frame/axis_partition.py\", line 294, in deploy_axis_func\n",
      "    if sum(lengths) != len(result.columns):\n",
      "AttributeError: 'int' object has no attribute 'columns'\n",
      "2021-03-25 00:08:17,692\tERROR worker.py:980 -- Possible unhandled error from worker: \u001b[36mray::deploy_ray_func()\u001b[39m (pid=814540, ip=10.8.8.17)\n",
      "  File \"python/ray/_raylet.pyx\", line 463, in ray._raylet.execute_task\n",
      "  File \"/home/alex/dotfiles/python_venvs/exjobb_labEnv/lib/python3.8/site-packages/modin/engines/ray/pandas_on_ray/frame/axis_partition.py\", line 114, in deploy_ray_func\n",
      "    result = func(*args)\n",
      "  File \"/home/alex/dotfiles/python_venvs/exjobb_labEnv/lib/python3.8/site-packages/modin/engines/base/frame/axis_partition.py\", line 294, in deploy_axis_func\n",
      "    if sum(lengths) != len(result.columns):\n",
      "AttributeError: 'int' object has no attribute 'columns'\n",
      "2021-03-25 00:08:17,692\tERROR worker.py:980 -- Possible unhandled error from worker: \u001b[36mray::deploy_ray_func()\u001b[39m (pid=814533, ip=10.8.8.17)\n",
      "  File \"python/ray/_raylet.pyx\", line 463, in ray._raylet.execute_task\n",
      "  File \"/home/alex/dotfiles/python_venvs/exjobb_labEnv/lib/python3.8/site-packages/modin/engines/ray/pandas_on_ray/frame/axis_partition.py\", line 114, in deploy_ray_func\n",
      "    result = func(*args)\n",
      "  File \"/home/alex/dotfiles/python_venvs/exjobb_labEnv/lib/python3.8/site-packages/modin/engines/base/frame/axis_partition.py\", line 294, in deploy_axis_func\n",
      "    if sum(lengths) != len(result.columns):\n",
      "AttributeError: 'int' object has no attribute 'columns'\n",
      "2021-03-25 00:08:17,692\tERROR worker.py:980 -- Possible unhandled error from worker: \u001b[36mray::deploy_ray_func()\u001b[39m (pid=814541, ip=10.8.8.17)\n",
      "  File \"python/ray/_raylet.pyx\", line 463, in ray._raylet.execute_task\n",
      "  File \"/home/alex/dotfiles/python_venvs/exjobb_labEnv/lib/python3.8/site-packages/modin/engines/ray/pandas_on_ray/frame/axis_partition.py\", line 114, in deploy_ray_func\n",
      "    result = func(*args)\n",
      "  File \"/home/alex/dotfiles/python_venvs/exjobb_labEnv/lib/python3.8/site-packages/modin/engines/base/frame/axis_partition.py\", line 294, in deploy_axis_func\n",
      "    if sum(lengths) != len(result.columns):\n",
      "AttributeError: 'int' object has no attribute 'columns'\n",
      "2021-03-25 00:08:17,693\tERROR worker.py:980 -- Possible unhandled error from worker: \u001b[36mray::deploy_ray_func()\u001b[39m (pid=901646, ip=10.8.8.17)\n",
      "  File \"python/ray/_raylet.pyx\", line 463, in ray._raylet.execute_task\n",
      "  File \"/home/alex/dotfiles/python_venvs/exjobb_labEnv/lib/python3.8/site-packages/modin/engines/ray/pandas_on_ray/frame/axis_partition.py\", line 114, in deploy_ray_func\n",
      "    result = func(*args)\n",
      "  File \"/home/alex/dotfiles/python_venvs/exjobb_labEnv/lib/python3.8/site-packages/modin/engines/base/frame/axis_partition.py\", line 294, in deploy_axis_func\n",
      "    if sum(lengths) != len(result.columns):\n",
      "AttributeError: 'int' object has no attribute 'columns'\n",
      "2021-03-25 00:08:17,694\tERROR worker.py:980 -- Possible unhandled error from worker: \u001b[36mray::deploy_ray_func()\u001b[39m (pid=814531, ip=10.8.8.17)\n",
      "  File \"python/ray/_raylet.pyx\", line 463, in ray._raylet.execute_task\n",
      "  File \"/home/alex/dotfiles/python_venvs/exjobb_labEnv/lib/python3.8/site-packages/modin/engines/ray/pandas_on_ray/frame/axis_partition.py\", line 114, in deploy_ray_func\n",
      "    result = func(*args)\n",
      "  File \"/home/alex/dotfiles/python_venvs/exjobb_labEnv/lib/python3.8/site-packages/modin/engines/base/frame/axis_partition.py\", line 294, in deploy_axis_func\n",
      "    if sum(lengths) != len(result.columns):\n",
      "AttributeError: 'int' object has no attribute 'columns'\n"
     ]
    }
   ],
   "source": [
    "main_table"
   ]
  },
  {
   "cell_type": "code",
   "execution_count": null,
   "id": "marine-special",
   "metadata": {},
   "outputs": [],
   "source": []
  }
 ],
 "metadata": {
  "kernelspec": {
   "display_name": "Python 3",
   "language": "python",
   "name": "python3"
  },
  "language_info": {
   "codemirror_mode": {
    "name": "ipython",
    "version": 3
   },
   "file_extension": ".py",
   "mimetype": "text/x-python",
   "name": "python",
   "nbconvert_exporter": "python",
   "pygments_lexer": "ipython3",
   "version": "3.8.5"
  }
 },
 "nbformat": 4,
 "nbformat_minor": 5
}
