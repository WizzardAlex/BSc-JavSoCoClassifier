{
 "cells": [
  {
   "cell_type": "code",
   "execution_count": 6,
   "id": "tight-huntington",
   "metadata": {},
   "outputs": [
    {
     "name": "stderr",
     "output_type": "stream",
     "text": [
      "2021-05-13 00:07:56,441\tINFO services.py:1172 -- View the Ray dashboard at \u001b[1m\u001b[32mhttp://127.0.0.1:8265\u001b[39m\u001b[22m\n"
     ]
    }
   ],
   "source": [
    "# Imports and scripts\n",
    "#import pandas as pd\n",
    "import modin.pandas as pd\n",
    "import numpy as np\n",
    "import matplotlib.pyplot as plt\n",
    "from sklearn.metrics import plot_confusion_matrix\n",
    "from sklearn.feature_extraction.text import CountVectorizer\n",
    "import pathmagic\n",
    "%matplotlib inline\n",
    "with pathmagic.context():\n",
    "    import Preprocess as Prep\n",
    "    import RelativePaths as RP\n",
    "    import Evaluation as Eva\n",
    "    import GatherData as Gather\n",
    "    import Graphs\n",
    "    import Utils\n",
    "import ray\n",
    "ray.shutdown()\n",
    "ray.init()\n",
    "\n",
    "system = 'jabref'"
   ]
  },
  {
   "cell_type": "code",
   "execution_count": 7,
   "id": "fiscal-egyptian",
   "metadata": {},
   "outputs": [],
   "source": [
    "# File containing settings\n",
    "path_to_yaml = '../config.yaml'\n",
    "config = Utils.read_yaml_file(path_to_yaml)\n",
    "\n",
    "files = config['file locations'][system]\n",
    "preprocess_settings = config['preprocess settings list']"
   ]
  },
  {
   "cell_type": "code",
   "execution_count": 8,
   "id": "victorian-chaos",
   "metadata": {},
   "outputs": [],
   "source": [
    "# set file_locations which will be relative to computer in use\n",
    "from pathlib import Path\n",
    "\n",
    "system_folder = str(Path.cwd().parent / files['system folder'])\n",
    "\n",
    "raw_data_csv = str(Path.cwd().parent / files['raw data'])\n",
    "tmp_csv = str(Path.cwd().parent / files['tmp data'])\n",
    "\n",
    "processed_data_csv = str(Path.cwd().parent / files['single setting preprocessing'])"
   ]
  },
  {
   "cell_type": "code",
   "execution_count": 9,
   "id": "nutritional-elevation",
   "metadata": {},
   "outputs": [],
   "source": [
    "Gather.gather_architectural_concerns_data(system_folder, raw_data_csv)"
   ]
  },
  {
   "cell_type": "code",
   "execution_count": 10,
   "id": "breeding-raising",
   "metadata": {},
   "outputs": [
    {
     "name": "stderr",
     "output_type": "stream",
     "text": [
      "UserWarning: Distributing <class 'dict'> object. This may take some time.\n",
      "UserWarning: sort_values defaulting to pandas implementation.\n",
      "To request implementation, send an email to feature_requests@modin.org.\n"
     ]
    },
    {
     "data": {
      "text/plain": [
       "Text(0.5, 1.0, 'System: JabRef')"
      ]
     },
     "execution_count": 10,
     "metadata": {},
     "output_type": "execute_result"
    },
    {
     "data": {
      "image/png": "[encoded data removed]",
      "text/plain": [
       "<Figure size 432x288 with 1 Axes>"
      ]
     },
     "metadata": {},
     "output_type": "display_data"
    }
   ],
   "source": [
    "dataset_df = pd.read_csv(raw_data_csv)\n",
    "y_labels = dataset_df.Label.unique()\n",
    "x_quantity = [len(dataset_df.loc[dataset_df['Label']==label]) for label in y_labels]\n",
    "tmp_df = pd.DataFrame({\n",
    "    'Labels' : y_labels,\n",
    "    'Quantity' : x_quantity\n",
    "})\n",
    "tmp_df = tmp_df.sort_values(by=['Quantity'])\n",
    "plt.style.use(\"seaborn-whitegrid\")\n",
    "plt.barh(y=tmp_df.Labels, width=tmp_df.Quantity)\n",
    "for i, v in enumerate(tmp_df.Quantity):\n",
    "    plt.text(v, i, str(v), color='black', fontweight='bold', ha='left', va='center')\n",
    "\n",
    "plt.xlabel('Number of files')\n",
    "plt.ylabel('Architectural Concerns')\n",
    "plt.title('System: JabRef')"
   ]
  },
  {
   "cell_type": "markdown",
   "id": "above-ranch",
   "metadata": {},
   "source": [
    "The figure above shows the number of files each label has."
   ]
  },
  {
   "cell_type": "markdown",
   "id": "amateur-finish",
   "metadata": {},
   "source": [
    "----"
   ]
  },
  {
   "cell_type": "markdown",
   "id": "cutting-saturn",
   "metadata": {},
   "source": [
    "# Evaluation\n",
    "\n",
    "### Static parts\n",
    "__Train-test split,__ will be set at 10% for training, and 90% for evaluation.  \n",
    "* __Metrics,__ the most relevant ones will be the following:  \n",
    "   * Confusion matrix  \n",
    "   * Precission  \n",
    "   * Accuracy  \n",
    "   * F1-score/value  \n",
    "   * Average score \n",
    "    \n",
    "----"
   ]
  },
  {
   "cell_type": "markdown",
   "id": "eight-possible",
   "metadata": {},
   "source": [
    "# TEST"
   ]
  },
  {
   "cell_type": "code",
   "execution_count": null,
   "id": "descending-effectiveness",
   "metadata": {},
   "outputs": [],
   "source": [
    "setting = preprocess_settings['s0']\n",
    "Prep.preprocess_settings(setting, raw_data_csv, processed_data_csv)"
   ]
  },
  {
   "cell_type": "markdown",
   "id": "gothic-project",
   "metadata": {},
   "source": [
    "Seen above we choose a pre-process setting then use that setting to extract and parse data from the files.\n",
    "All the available settings are found in the config.yaml file."
   ]
  },
  {
   "cell_type": "code",
   "execution_count": null,
   "id": "bibliographic-thong",
   "metadata": {},
   "outputs": [],
   "source": [
    "test_df = pd.read_csv(processed_data_csv)\n",
    "# Remove GLOBALS and CLI from the dataset\n",
    "df_sliced = Utils.remove_concerns_under_quantity_threshold(test_df)\n",
    "test_size=0.9\n",
    "fold_quantity = 100\n",
    "feature_representation = CountVectorizer()\n",
    "confusion_list = []\n",
    "\n",
    "# Train and gather evaluation metrics\n",
    "evaluate = Eva.Evaluation(df_sliced, feature_representation, test_size, fold_quantity, 10)\n",
    "classifier_max_ent , metrics_max_ent = evaluate.evaluate_MaxEnt()\n",
    "classifier_svm , metrics_svm = evaluate.evaluate_SVM()\n",
    "classifier_naive, metrics_naive = evaluate.evaluate_Naive_Bayes()\n",
    "\n",
    "metrics = {\n",
    "    'maxEnt': metrics_max_ent,\n",
    "    'SVM': metrics_svm,\n",
    "    'Naive': metrics_naive\n",
    "}"
   ]
  },
  {
   "cell_type": "markdown",
   "id": "stainless-steps",
   "metadata": {},
   "source": []
  },
  {
   "cell_type": "code",
   "execution_count": null,
   "id": "monetary-evans",
   "metadata": {},
   "outputs": [],
   "source": [
    "Graphs.plot_horizontal_graphs(metrics, 'norm')"
   ]
  },
  {
   "cell_type": "markdown",
   "id": "removable-trade",
   "metadata": {},
   "source": [
    "# Confusion matrix\n",
    "    - Each row represents a concern\n",
    "    - the diagonal indicates the number of true positives that successfully mapped to the right concern\n",
    "    \n",
    "    "
   ]
  },
  {
   "cell_type": "code",
   "execution_count": null,
   "id": "heated-knitting",
   "metadata": {},
   "outputs": [],
   "source": [
    "Graphs.plot_horizontal_graphs(metrics, 'regular')"
   ]
  },
  {
   "cell_type": "markdown",
   "id": "operating-context",
   "metadata": {},
   "source": [
    " # Classification report\n",
    "     - Shows each concern precision, recall and F1-score\n",
    "     - Shows the classifiers overall accuracy, that is the # TP divided by all files\n",
    "     - We mainly base results on macro avg, takes the small classes into consideration"
   ]
  },
  {
   "cell_type": "code",
   "execution_count": null,
   "id": "municipal-pantyhose",
   "metadata": {},
   "outputs": [],
   "source": [
    "Graphs.plot_horizontal_graphs(metrics, 'report')"
   ]
  },
  {
   "cell_type": "markdown",
   "id": "parental-minnesota",
   "metadata": {},
   "source": [
    "## Prediction probability bar-graph\n",
    "Each bar-graph shows the average probability of which architectural concern   \n",
    "the classifier will predict when the classifier is given files.  \n",
    "The files then belong to the architectural concern that is specified on top of the bar-graph.  \n",
    "  "
   ]
  },
  {
   "cell_type": "code",
   "execution_count": null,
   "id": "rental-roads",
   "metadata": {},
   "outputs": [],
   "source": [
    "Graphs.plot_predictionScoreAverage(metrics_max_ent, classifier_max_ent)\n",
    "Graphs.plot_predictionScoreAverage(metrics_svm, classifier_svm)\n",
    "Graphs.plot_predictionScoreAverage(metrics_naive, classifier_naive)"
   ]
  },
  {
   "cell_type": "code",
   "execution_count": null,
   "id": "frank-encyclopedia",
   "metadata": {},
   "outputs": [],
   "source": [
    "df = metrics_svm.total_report_table()\n",
    "df"
   ]
  }
 ],
 "metadata": {
  "kernelspec": {
   "display_name": "Python 3",
   "language": "python",
   "name": "python3"
  },
  "language_info": {
   "codemirror_mode": {
    "name": "ipython",
    "version": 3
   },
   "file_extension": ".py",
   "mimetype": "text/x-python",
   "name": "python",
   "nbconvert_exporter": "python",
   "pygments_lexer": "ipython3",
   "version": "3.8.5"
  }
 },
 "nbformat": 4,
 "nbformat_minor": 5
}
