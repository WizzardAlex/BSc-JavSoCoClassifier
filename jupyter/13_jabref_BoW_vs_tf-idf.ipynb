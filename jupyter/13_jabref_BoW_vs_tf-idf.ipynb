{
 "cells": [
  {
   "cell_type": "code",
   "execution_count": 1,
   "metadata": {},
   "outputs": [
    {
     "name": "stderr",
     "output_type": "stream",
     "text": [
      "2021-03-30 12:06:44,109\tINFO services.py:1172 -- View the Ray dashboard at \u001b[1m\u001b[32mhttp://127.0.0.1:8265\u001b[39m\u001b[22m\n"
     ]
    }
   ],
   "source": [
    "import modin.pandas as pd\n",
    "import ray\n",
    "ray.shutdown()\n",
    "ray.init()\n",
    "import numpy as np\n",
    "import matplotlib.pyplot as plt\n",
    "from sklearn.metrics import plot_confusion_matrix\n",
    "from sklearn.feature_extraction.text import CountVectorizer,TfidfVectorizer\n",
    "import pathmagic\n",
    "%matplotlib inline\n",
    "with pathmagic.context():\n",
    "    import Preprocess as Prep\n",
    "    import RelativePaths as RP\n",
    "    import Evaluation as Eva\n",
    "    import GatherData as Gather\n",
    "    import Graphs\n",
    "    import Utils\n",
    "system = 'jabref'"
   ]
  },
  {
   "cell_type": "code",
   "execution_count": 2,
   "metadata": {},
   "outputs": [],
   "source": [
    "# File containing settings\n",
    "path_to_yaml = '../config.yaml'\n",
    "config = Utils.read_yaml_file(path_to_yaml)\n",
    "\n",
    "files = config['file locations'][system]\n",
    "preprocess_settings = config['preprocess settings list']"
   ]
  },
  {
   "cell_type": "code",
   "execution_count": 3,
   "metadata": {},
   "outputs": [],
   "source": [
    "# set file_locations which will be relative to computer in use\n",
    "from pathlib import Path\n",
    "raw_data_csv = str(Path.cwd().parent / files['raw data'])\n",
    "system_folder = str(Path.cwd().parent / files['system folder'])\n",
    "tmp_csv = str(Path.cwd().parent / files['tmp data'])\n",
    "table_file = str(Path.cwd().parent / files['preprocess comparisons'])"
   ]
  },
  {
   "cell_type": "code",
   "execution_count": 4,
   "metadata": {},
   "outputs": [],
   "source": [
    "Gather.gather_architectural_concerns_data(system_folder, raw_data_csv)"
   ]
  },
  {
   "cell_type": "code",
   "execution_count": 5,
   "metadata": {},
   "outputs": [
    {
     "name": "stderr",
     "output_type": "stream",
     "text": [
      "UserWarning: Distributing <class 'dict'> object. This may take some time.\n",
      "UserWarning: sort_values defaulting to pandas implementation.\n",
      "To request implementation, send an email to feature_requests@modin.org.\n"
     ]
    },
    {
     "data": {
      "text/plain": [
       "Text(0.5, 1.0, 'File distribution of the software architectural concerns for jabref')"
      ]
     },
     "execution_count": 5,
     "metadata": {},
     "output_type": "execute_result"
    },
    {
     "data": {
      "image/png": "[encoded data removed]",
      "text/plain": [
       "<Figure size 432x288 with 1 Axes>"
      ]
     },
     "metadata": {},
     "output_type": "display_data"
    }
   ],
   "source": [
    "dataset_df = pd.read_csv(raw_data_csv)\n",
    "y_labels = dataset_df.Label.unique()\n",
    "x_quantity = [len(dataset_df.loc[dataset_df['Label']==label]) for label in y_labels]\n",
    "tmp_df = pd.DataFrame({\n",
    "    'Labels' : y_labels,\n",
    "    'Quantity' : x_quantity\n",
    "})\n",
    "tmp_df = tmp_df.sort_values(by=['Quantity'])\n",
    "plt.style.use(\"seaborn-whitegrid\")\n",
    "plt.barh(y=tmp_df.Labels, width=tmp_df.Quantity)\n",
    "for i, v in enumerate(tmp_df.Quantity):\n",
    "    plt.text(v, i, str(v), color='black', fontweight='bold', ha='left', va='center')\n",
    "\n",
    "plt.xlabel('Quantities')\n",
    "plt.ylabel('Labels')\n",
    "plt.title('File distribution of the software architectural concerns for ' + system)"
   ]
  },
  {
   "cell_type": "markdown",
   "metadata": {},
   "source": [
    "# Bag-of-words approach\n",
    "    -test-size: 90%\n",
    "    -10 folds (k-fold)\n",
    "    -feature representation: Bag-of-words\n"
   ]
  },
  {
   "cell_type": "code",
   "execution_count": 6,
   "metadata": {},
   "outputs": [
    {
     "name": "stderr",
     "output_type": "stream",
     "text": [
      "UserWarning: Distributing <class 'NoneType'> object. This may take some time.\n",
      "UserWarning: `DataFrame.append` for empty DataFrame defaulting to pandas implementation.\n",
      "UserWarning: Distributing <class 'pandas.core.frame.DataFrame'> object. This may take some time.\n",
      "UserWarning: Due to https://github.com/pandas-dev/pandas/issues/35092, Pandas ignores sort=False; Modin correctly does not sort.\n",
      "UserWarning: Distributing <class 'dict'> object. This may take some time.\n",
      "UserWarning: Due to https://github.com/pandas-dev/pandas/issues/35092, Pandas ignores sort=False; Modin correctly does not sort.\n",
      "UserWarning: Distributing <class 'dict'> object. This may take some time.\n"
     ]
    }
   ],
   "source": [
    "df_columns = [\n",
    "    'classifier',\n",
    "    'setting_id',\n",
    "    'settings', \n",
    "    'accuracy', \n",
    "    'w_avg_precision', \n",
    "    'w_avg_recall', \n",
    "    'train_size', \n",
    "    'test_size', \n",
    "    'report_table' \n",
    "]\n",
    "main_table = pd.DataFrame(columns=df_columns)\n",
    "test_size=0.9\n",
    "fold_quantity = 10\n",
    "\n",
    "for setting_id, setting in preprocess_settings.items():\n",
    "    Prep.preprocess_settings(setting, raw_data_csv, tmp_csv)\n",
    "    tmp_df = pd.read_csv(tmp_csv)\n",
    "\n",
    "    # Remove concerns where number of testfiles are <5\n",
    "    df_sliced = Utils.remove_concerns_under_quantity_threshold(tmp_df)\n",
    "\n",
    "    feature_representation = CountVectorizer()\n",
    "    confusion_list = []\n",
    "\n",
    "    # Train and gather evaluation metrics\n",
    "    evaluate = Eva.Evaluation(df_sliced, feature_representation, test_size, fold_quantity, 10)\n",
    "    classifier_max_ent , metrics_max_ent = evaluate.evaluate_MaxEnt()\n",
    "    classifier_svm , metrics_svm = evaluate.evaluate_SVM()\n",
    "    classifier_naive, metrics_naive = evaluate.evaluate_Naive_Bayes()\n",
    "      \n",
    "    row = Utils.make_dataframe_row(metrics_max_ent, setting, setting_id)\n",
    "    main_table = main_table.append(row, ignore_index=True)\n",
    "\n",
    "    row = Utils.make_dataframe_row(metrics_svm, setting, setting_id)\n",
    "    main_table = main_table.append(row, ignore_index=True)\n",
    "    \n",
    "    row = Utils.make_dataframe_row(metrics_naive, setting, setting_id)\n",
    "    main_table = main_table.append(row, ignore_index=True)\n",
    "    break\n",
    "main_table.to_csv(table_file, index=False)"
   ]
  },
  {
   "cell_type": "code",
   "execution_count": 7,
   "metadata": {},
   "outputs": [
    {
     "name": "stderr",
     "output_type": "stream",
     "text": [
      "UserWarning: sort_values defaulting to pandas implementation.\n"
     ]
    }
   ],
   "source": [
    "main_table.sort_values(by='accuracy',ascending=[False])\n",
    "comp_table = main_table.sort_values(by='accuracy',ascending=[False])\n",
    "comp_table['Feature Representation']='Bag of words'"
   ]
  },
  {
   "cell_type": "markdown",
   "metadata": {},
   "source": [
    "# Term-frequency inverse-document"
   ]
  },
  {
   "cell_type": "code",
   "execution_count": 8,
   "metadata": {},
   "outputs": [
    {
     "name": "stderr",
     "output_type": "stream",
     "text": [
      "UserWarning: Distributing <class 'NoneType'> object. This may take some time.\n",
      "2021-03-30 12:07:06,124\tERROR worker.py:1053 -- Possible unhandled error from worker: \u001b[36mray::deploy_ray_func()\u001b[39m (pid=196926, ip=10.8.0.6)\n",
      "  File \"python/ray/_raylet.pyx\", line 480, in ray._raylet.execute_task\n",
      "  File \"/home/alex/dotfiles/python_venvs/exjobb_labEnv/lib/python3.8/site-packages/modin/engines/ray/pandas_on_ray/frame/axis_partition.py\", line 114, in deploy_ray_func\n",
      "    result = func(*args)\n",
      "  File \"/home/alex/dotfiles/python_venvs/exjobb_labEnv/lib/python3.8/site-packages/modin/engines/base/frame/axis_partition.py\", line 294, in deploy_axis_func\n",
      "    if sum(lengths) != len(result.columns):\n",
      "AttributeError: 'int' object has no attribute 'columns'\n",
      "2021-03-30 12:07:06,132\tERROR worker.py:1053 -- Possible unhandled error from worker: \u001b[36mray::deploy_ray_func()\u001b[39m (pid=196925, ip=10.8.0.6)\n",
      "  File \"python/ray/_raylet.pyx\", line 480, in ray._raylet.execute_task\n",
      "  File \"/home/alex/dotfiles/python_venvs/exjobb_labEnv/lib/python3.8/site-packages/modin/engines/ray/pandas_on_ray/frame/axis_partition.py\", line 114, in deploy_ray_func\n",
      "    result = func(*args)\n",
      "  File \"/home/alex/dotfiles/python_venvs/exjobb_labEnv/lib/python3.8/site-packages/modin/engines/base/frame/axis_partition.py\", line 294, in deploy_axis_func\n",
      "    if sum(lengths) != len(result.columns):\n",
      "AttributeError: 'int' object has no attribute 'columns'\n",
      "2021-03-30 12:07:06,132\tERROR worker.py:1053 -- Possible unhandled error from worker: \u001b[36mray::deploy_ray_func()\u001b[39m (pid=196918, ip=10.8.0.6)\n",
      "  File \"python/ray/_raylet.pyx\", line 480, in ray._raylet.execute_task\n",
      "  File \"/home/alex/dotfiles/python_venvs/exjobb_labEnv/lib/python3.8/site-packages/modin/engines/ray/pandas_on_ray/frame/axis_partition.py\", line 114, in deploy_ray_func\n",
      "    result = func(*args)\n",
      "  File \"/home/alex/dotfiles/python_venvs/exjobb_labEnv/lib/python3.8/site-packages/modin/engines/base/frame/axis_partition.py\", line 294, in deploy_axis_func\n",
      "    if sum(lengths) != len(result.columns):\n",
      "AttributeError: 'int' object has no attribute 'columns'\n",
      "UserWarning: `DataFrame.append` for empty DataFrame defaulting to pandas implementation.\n",
      "UserWarning: Distributing <class 'pandas.core.frame.DataFrame'> object. This may take some time.\n",
      "UserWarning: Due to https://github.com/pandas-dev/pandas/issues/35092, Pandas ignores sort=False; Modin correctly does not sort.\n",
      "UserWarning: Distributing <class 'dict'> object. This may take some time.\n",
      "UserWarning: Due to https://github.com/pandas-dev/pandas/issues/35092, Pandas ignores sort=False; Modin correctly does not sort.\n",
      "UserWarning: Distributing <class 'dict'> object. This may take some time.\n"
     ]
    }
   ],
   "source": [
    "df_columns = [\n",
    "    'classifier',\n",
    "    'setting_id',\n",
    "    'settings', \n",
    "    'accuracy', \n",
    "    'w_avg_precision', \n",
    "    'w_avg_recall', \n",
    "    'train_size', \n",
    "    'test_size', \n",
    "    'report_table' \n",
    "]\n",
    "main_table = pd.DataFrame(columns=df_columns)\n",
    "test_size=0.9\n",
    "fold_quantity = 10\n",
    "\n",
    "for setting_id, setting in preprocess_settings.items():\n",
    "    Prep.preprocess_settings(setting, raw_data_csv, tmp_csv)\n",
    "    tmp_df = pd.read_csv(tmp_csv)\n",
    "\n",
    "    # Remove concerns where number of testfiles are <5\n",
    "    df_sliced = Utils.remove_concerns_under_quantity_threshold(tmp_df)\n",
    "\n",
    "    feature_representation = TfidfVectorizer(use_idf = True)\n",
    "    confusion_list = []\n",
    "\n",
    "    # Train and gather evaluation metrics\n",
    "    evaluate = Eva.Evaluation(df_sliced, feature_representation, test_size, fold_quantity, 10)\n",
    "    classifier_max_ent , metrics_max_ent = evaluate.evaluate_MaxEnt()\n",
    "    classifier_svm , metrics_svm = evaluate.evaluate_SVM()\n",
    "    classifier_naive, metrics_naive = evaluate.evaluate_Naive_Bayes()\n",
    "      \n",
    "    row = Utils.make_dataframe_row(metrics_max_ent, setting, setting_id)\n",
    "    main_table = main_table.append(row, ignore_index=True)\n",
    "\n",
    "    row = Utils.make_dataframe_row(metrics_svm, setting, setting_id)\n",
    "    main_table = main_table.append(row, ignore_index=True)\n",
    "    \n",
    "    row = Utils.make_dataframe_row(metrics_naive, setting, setting_id)\n",
    "    main_table = main_table.append(row, ignore_index=True)\n",
    "    break\n",
    "main_table.to_csv(table_file, index=False)"
   ]
  },
  {
   "cell_type": "code",
   "execution_count": 14,
   "metadata": {},
   "outputs": [
    {
     "name": "stderr",
     "output_type": "stream",
     "text": [
      "UserWarning: sort_values defaulting to pandas implementation.\n",
      "UserWarning: Due to https://github.com/pandas-dev/pandas/issues/35092, Pandas ignores sort=False; Modin correctly does not sort.\n"
     ]
    },
    {
     "data": {
      "text/html": [
       "<div>\n",
       "<style scoped>\n",
       "    .dataframe tbody tr th:only-of-type {\n",
       "        vertical-align: middle;\n",
       "    }\n",
       "\n",
       "    .dataframe tbody tr th {\n",
       "        vertical-align: top;\n",
       "    }\n",
       "\n",
       "    .dataframe thead th {\n",
       "        text-align: right;\n",
       "    }\n",
       "</style>\n",
       "<table border=\"1\" class=\"dataframe\">\n",
       "  <thead>\n",
       "    <tr style=\"text-align: right;\">\n",
       "      <th></th>\n",
       "      <th>classifier</th>\n",
       "      <th>setting_id</th>\n",
       "      <th>settings</th>\n",
       "      <th>accuracy</th>\n",
       "      <th>w_avg_precision</th>\n",
       "      <th>w_avg_recall</th>\n",
       "      <th>train_size</th>\n",
       "      <th>test_size</th>\n",
       "      <th>report_table</th>\n",
       "      <th>Feature Representation</th>\n",
       "    </tr>\n",
       "  </thead>\n",
       "  <tbody>\n",
       "    <tr>\n",
       "      <th>1</th>\n",
       "      <td>SVM</td>\n",
       "      <td>s0</td>\n",
       "      <td>[[lib, tow, jk, scw, lc, stem], [pac, tow, jk]]</td>\n",
       "      <td>0.941567</td>\n",
       "      <td>0.937786</td>\n",
       "      <td>0.941567</td>\n",
       "      <td>83</td>\n",
       "      <td>753</td>\n",
       "      <td>GUI       LOGIC      MODEL  ...</td>\n",
       "      <td>Bag of words</td>\n",
       "    </tr>\n",
       "    <tr>\n",
       "      <th>0</th>\n",
       "      <td>MaxEnt</td>\n",
       "      <td>s0</td>\n",
       "      <td>[[lib, tow, jk, scw, lc, stem], [pac, tow, jk]]</td>\n",
       "      <td>0.922975</td>\n",
       "      <td>0.938585</td>\n",
       "      <td>0.922975</td>\n",
       "      <td>83</td>\n",
       "      <td>753</td>\n",
       "      <td>GUI       LOGIC      MODEL  ...</td>\n",
       "      <td>Bag of words</td>\n",
       "    </tr>\n",
       "    <tr>\n",
       "      <th>2</th>\n",
       "      <td>Naive-Bayes</td>\n",
       "      <td>s0</td>\n",
       "      <td>[[lib, tow, jk, scw, lc, stem], [pac, tow, jk]]</td>\n",
       "      <td>0.917663</td>\n",
       "      <td>0.917277</td>\n",
       "      <td>0.917663</td>\n",
       "      <td>83</td>\n",
       "      <td>753</td>\n",
       "      <td>GUI       LOGIC      MODEL  ...</td>\n",
       "      <td>Bag of words</td>\n",
       "    </tr>\n",
       "    <tr>\n",
       "      <th>0</th>\n",
       "      <td>MaxEnt</td>\n",
       "      <td>s0</td>\n",
       "      <td>[[lib, tow, jk, scw, lc, stem], [pac, tow, jk]]</td>\n",
       "      <td>0.907039</td>\n",
       "      <td>0.905975</td>\n",
       "      <td>0.907039</td>\n",
       "      <td>83</td>\n",
       "      <td>753</td>\n",
       "      <td>GUI       LOGIC      MODEL  ...</td>\n",
       "      <td>Tf-idf</td>\n",
       "    </tr>\n",
       "    <tr>\n",
       "      <th>1</th>\n",
       "      <td>SVM</td>\n",
       "      <td>s0</td>\n",
       "      <td>[[lib, tow, jk, scw, lc, stem], [pac, tow, jk]]</td>\n",
       "      <td>0.904382</td>\n",
       "      <td>0.900765</td>\n",
       "      <td>0.904382</td>\n",
       "      <td>83</td>\n",
       "      <td>753</td>\n",
       "      <td>GUI       LOGIC      MODEL  ...</td>\n",
       "      <td>Tf-idf</td>\n",
       "    </tr>\n",
       "    <tr>\n",
       "      <th>2</th>\n",
       "      <td>Naive-Bayes</td>\n",
       "      <td>s0</td>\n",
       "      <td>[[lib, tow, jk, scw, lc, stem], [pac, tow, jk]]</td>\n",
       "      <td>0.89907</td>\n",
       "      <td>0.897948</td>\n",
       "      <td>0.89907</td>\n",
       "      <td>83</td>\n",
       "      <td>753</td>\n",
       "      <td>GUI       LOGIC      MODEL  ...</td>\n",
       "      <td>Tf-idf</td>\n",
       "    </tr>\n",
       "  </tbody>\n",
       "</table>\n",
       "</div>"
      ],
      "text/plain": [
       "    classifier setting_id                                         settings  \\\n",
       "1          SVM         s0  [[lib, tow, jk, scw, lc, stem], [pac, tow, jk]]   \n",
       "0       MaxEnt         s0  [[lib, tow, jk, scw, lc, stem], [pac, tow, jk]]   \n",
       "2  Naive-Bayes         s0  [[lib, tow, jk, scw, lc, stem], [pac, tow, jk]]   \n",
       "0       MaxEnt         s0  [[lib, tow, jk, scw, lc, stem], [pac, tow, jk]]   \n",
       "1          SVM         s0  [[lib, tow, jk, scw, lc, stem], [pac, tow, jk]]   \n",
       "2  Naive-Bayes         s0  [[lib, tow, jk, scw, lc, stem], [pac, tow, jk]]   \n",
       "\n",
       "   accuracy w_avg_precision w_avg_recall train_size test_size  \\\n",
       "1  0.941567        0.937786     0.941567         83       753   \n",
       "0  0.922975        0.938585     0.922975         83       753   \n",
       "2  0.917663        0.917277     0.917663         83       753   \n",
       "0  0.907039        0.905975     0.907039         83       753   \n",
       "1  0.904382        0.900765     0.904382         83       753   \n",
       "2   0.89907        0.897948      0.89907         83       753   \n",
       "\n",
       "                                        report_table Feature Representation  \n",
       "1                    GUI       LOGIC      MODEL  ...           Bag of words  \n",
       "0                    GUI       LOGIC      MODEL  ...           Bag of words  \n",
       "2                    GUI       LOGIC      MODEL  ...           Bag of words  \n",
       "0                    GUI       LOGIC      MODEL  ...                 Tf-idf  \n",
       "1                    GUI       LOGIC      MODEL  ...                 Tf-idf  \n",
       "2                    GUI       LOGIC      MODEL  ...                 Tf-idf  "
      ]
     },
     "execution_count": 14,
     "metadata": {},
     "output_type": "execute_result"
    }
   ],
   "source": [
    "tmp = main_table.sort_values(by='accuracy',ascending=[False])\n",
    "tmp['Feature Representation']='Tf-idf'\n",
    "comp_table.append(tmp)"
   ]
  }
 ],
 "metadata": {
  "kernelspec": {
   "display_name": "Python 3",
   "language": "python",
   "name": "python3"
  },
  "language_info": {
   "codemirror_mode": {
    "name": "ipython",
    "version": 3
   },
   "file_extension": ".py",
   "mimetype": "text/x-python",
   "name": "python",
   "nbconvert_exporter": "python",
   "pygments_lexer": "ipython3",
   "version": "3.8.5"
  }
 },
 "nbformat": 4,
 "nbformat_minor": 4
}
