{
 "cells": [
  {
   "cell_type": "code",
   "execution_count": 1,
   "id": "cross-snowboard",
   "metadata": {},
   "outputs": [],
   "source": [
    "# Imports and scripts\n",
    "import pandas as pd\n",
    "import numpy as np\n",
    "import matplotlib.pyplot as plt\n",
    "from sklearn.metrics import plot_confusion_matrix\n",
    "from sklearn.feature_extraction.text import CountVectorizer\n",
    "import pathmagic\n",
    "%matplotlib inline\n",
    "with pathmagic.context():\n",
    "    import Preprocess as Prep\n",
    "    import RelativePaths as RP\n",
    "    import Evaluation as Eva\n",
    "\n",
    "%run ../script/GatherData.py"
   ]
  },
  {
   "cell_type": "code",
   "execution_count": 2,
   "id": "defensive-batman",
   "metadata": {},
   "outputs": [
    {
     "data": {
      "text/plain": [
       "Text(0.5, 1.0, 'Shows the number of files for every label, from JabRef')"
      ]
     },
     "execution_count": 2,
     "metadata": {},
     "output_type": "execute_result"
    },
    {
     "data": {
      "image/png": "[encoded data removed]",
      "text/plain": [
       "<Figure size 432x288 with 1 Axes>"
      ]
     },
     "metadata": {},
     "output_type": "display_data"
    }
   ],
   "source": [
    "dataset_df = pd.read_csv(str(RP.getRawDataSet()))\n",
    "y_labels = dataset_df.Label.unique()\n",
    "x_quantity = [len(dataset_df.loc[dataset_df['Label']==label]) for label in y_labels]\n",
    "tmp_df = pd.DataFrame({\n",
    "    'Labels' : y_labels,\n",
    "    'Quantity' : x_quantity\n",
    "})\n",
    "tmp_df = tmp_df.sort_values(by=['Quantity'])\n",
    "plt.style.use(\"seaborn-whitegrid\")\n",
    "plt.barh(y=tmp_df.Labels, width=tmp_df.Quantity)\n",
    "for i, v in enumerate(tmp_df.Quantity):\n",
    "    plt.text(v, i, str(v), color='black', fontweight='bold', ha='left', va='center')\n",
    "\n",
    "plt.xlabel('Quantities')\n",
    "plt.ylabel('Labels')\n",
    "plt.title('Shows the number of files for every label, from JabRef')"
   ]
  },
  {
   "cell_type": "code",
   "execution_count": 3,
   "id": "increased-brand",
   "metadata": {},
   "outputs": [],
   "source": [
    "# Extractions & parsing\n",
    "main_df = pd.read_csv('../Data/rawData.csv')\n",
    "lib_settings =  [['lib', 'tow', 'jk', 'scw','lc', 'stem']]\n",
    "pac_settings = [['pac', 'tow', 'jk']]\n",
    "method_settings = [['pm', 'tow', 'jk', 'scw','lc', 'sw', 'stem']]\n",
    "\n",
    "lib_parsed = Prep.preprocess_settings(lib_settings, '../Data/lib.csv')\n",
    "pac_parsed = Prep.preprocess_settings(pac_settings, '../Data/pac.csv')\n",
    "method_parsed = Prep.preprocess_settings(method_settings, '../Data/method.csv')"
   ]
  },
  {
   "cell_type": "code",
   "execution_count": 7,
   "id": "transparent-jackson",
   "metadata": {},
   "outputs": [
    {
     "data": {
      "text/html": [
       "<div>\n",
       "<style scoped>\n",
       "    .dataframe tbody tr th:only-of-type {\n",
       "        vertical-align: middle;\n",
       "    }\n",
       "\n",
       "    .dataframe tbody tr th {\n",
       "        vertical-align: top;\n",
       "    }\n",
       "\n",
       "    .dataframe thead th {\n",
       "        text-align: right;\n",
       "    }\n",
       "</style>\n",
       "<table border=\"1\" class=\"dataframe\">\n",
       "  <thead>\n",
       "    <tr style=\"text-align: right;\">\n",
       "      <th></th>\n",
       "      <th>FileName</th>\n",
       "      <th>Label</th>\n",
       "      <th>FileContent</th>\n",
       "      <th>Libraries</th>\n",
       "      <th>Packages</th>\n",
       "      <th>Methods</th>\n",
       "    </tr>\n",
       "  </thead>\n",
       "  <tbody>\n",
       "    <tr>\n",
       "      <th>0</th>\n",
       "      <td>GenerateCharacterTable.java</td>\n",
       "      <td>CLI</td>\n",
       "      <td>package net.sf.jabref.cli;\\n\\nimport java.util...</td>\n",
       "      <td>[util, map, util, tree, map, net, sf, jabref, ...</td>\n",
       "      <td>[net, sf, jabref, cli]</td>\n",
       "      <td>[main, println, println, println, println, pri...</td>\n",
       "    </tr>\n",
       "    <tr>\n",
       "      <th>1</th>\n",
       "      <td>ArgumentProcessor.java</td>\n",
       "      <td>CLI</td>\n",
       "      <td>package net.sf.jabref.cli;\\n\\nimport java.io.F...</td>\n",
       "      <td>[io, file, io, ioexcept, nio, file, path, nio,...</td>\n",
       "      <td>[net, sf, jabref, cli]</td>\n",
       "      <td>[argument, processor, get, parser, result, par...</td>\n",
       "    </tr>\n",
       "    <tr>\n",
       "      <th>2</th>\n",
       "      <td>XMPUtilMain.java</td>\n",
       "      <td>CLI</td>\n",
       "      <td>package net.sf.jabref.cli;\\n\\nimport java.io.B...</td>\n",
       "      <td>[io, buffer, reader, io, file, io, file, input...</td>\n",
       "      <td>[net, sf, jabref, cli]</td>\n",
       "      <td>[main, pref, jab, ref, prefer, get, instanc, p...</td>\n",
       "    </tr>\n",
       "    <tr>\n",
       "      <th>3</th>\n",
       "      <td>AuxCommandLine.java</td>\n",
       "      <td>CLI</td>\n",
       "      <td>package net.sf.jabref.cli;\\n\\nimport net.sf.ja...</td>\n",
       "      <td>[net, sf, jabref, logic, auxpars, aux, parser,...</td>\n",
       "      <td>[net, sf, jabref, cli]</td>\n",
       "      <td>[aux, command, line, perform, aux, file, strin...</td>\n",
       "    </tr>\n",
       "    <tr>\n",
       "      <th>4</th>\n",
       "      <td>ImportInspectionCommandLine.java</td>\n",
       "      <td>CLI</td>\n",
       "      <td>package net.sf.jabref.cli;\\n\\nimport java.util...</td>\n",
       "      <td>[util, collect, util, collect, util, link, lis...</td>\n",
       "      <td>[net, sf, jabref, cli]</td>\n",
       "      <td>[add, entri, set, progress, queri, add, set, s...</td>\n",
       "    </tr>\n",
       "  </tbody>\n",
       "</table>\n",
       "</div>"
      ],
      "text/plain": [
       "                           FileName Label  \\\n",
       "0       GenerateCharacterTable.java   CLI   \n",
       "1            ArgumentProcessor.java   CLI   \n",
       "2                  XMPUtilMain.java   CLI   \n",
       "3               AuxCommandLine.java   CLI   \n",
       "4  ImportInspectionCommandLine.java   CLI   \n",
       "\n",
       "                                         FileContent  \\\n",
       "0  package net.sf.jabref.cli;\\n\\nimport java.util...   \n",
       "1  package net.sf.jabref.cli;\\n\\nimport java.io.F...   \n",
       "2  package net.sf.jabref.cli;\\n\\nimport java.io.B...   \n",
       "3  package net.sf.jabref.cli;\\n\\nimport net.sf.ja...   \n",
       "4  package net.sf.jabref.cli;\\n\\nimport java.util...   \n",
       "\n",
       "                                           Libraries                Packages  \\\n",
       "0  [util, map, util, tree, map, net, sf, jabref, ...  [net, sf, jabref, cli]   \n",
       "1  [io, file, io, ioexcept, nio, file, path, nio,...  [net, sf, jabref, cli]   \n",
       "2  [io, buffer, reader, io, file, io, file, input...  [net, sf, jabref, cli]   \n",
       "3  [net, sf, jabref, logic, auxpars, aux, parser,...  [net, sf, jabref, cli]   \n",
       "4  [util, collect, util, collect, util, link, lis...  [net, sf, jabref, cli]   \n",
       "\n",
       "                                             Methods  \n",
       "0  [main, println, println, println, println, pri...  \n",
       "1  [argument, processor, get, parser, result, par...  \n",
       "2  [main, pref, jab, ref, prefer, get, instanc, p...  \n",
       "3  [aux, command, line, perform, aux, file, strin...  \n",
       "4  [add, entri, set, progress, queri, add, set, s...  "
      ]
     },
     "execution_count": 7,
     "metadata": {},
     "output_type": "execute_result"
    }
   ],
   "source": [
    "main_df['Libraries'] = lib_parsed['FileContent'].to_list()\n",
    "main_df['Packages'] = pac_parsed['FileContent'].to_list()\n",
    "main_df['Methods'] = method_parsed['FileContent'].to_list()\n",
    "main_df.head()"
   ]
  },
  {
   "cell_type": "code",
   "execution_count": 5,
   "id": "above-celebrity",
   "metadata": {},
   "outputs": [
    {
     "name": "stdout",
     "output_type": "stream",
     "text": [
      "<class 'pandas.core.frame.DataFrame'>\n",
      "<class 'pandas.core.frame.DataFrame'>\n",
      "    Label\n",
      "0     CLI\n",
      "1     CLI\n",
      "2     CLI\n",
      "3     CLI\n",
      "4     CLI\n",
      "..    ...\n",
      "840  PREF\n",
      "841  PREF\n",
      "842  PREF\n",
      "843  PREF\n",
      "844  PREF\n",
      "\n",
      "[845 rows x 1 columns]\n"
     ]
    }
   ],
   "source": [
    "from sklearn.model_selection import train_test_split\n",
    "\n",
    "train_cols = main_df.columns[3:]\n",
    "label = main_df['Label']\n",
    "\n",
    "X = main_df[train_cols]\n",
    "y = pd.DataFrame({'Label':label})\n",
    "print(type(X))\n",
    "print(type(y))\n",
    "print(y)\n",
    "seed = 1\n",
    "X_train, X_test, y_train, y_test = train_test_split(X, y, test_size=0.90, random_state=seed)"
   ]
  },
  {
   "cell_type": "code",
   "execution_count": 10,
   "id": "fiscal-manhattan",
   "metadata": {},
   "outputs": [
    {
     "name": "stdout",
     "output_type": "stream",
     "text": [
      "                                             Libraries  \\\n",
      "418                         [util, compar, util, list]   \n",
      "288  [io, ioexcept, net, url, util, array, list, ut...   \n",
      "648  [net, sf, jabref, logic, l, n, local, net, sf,...   \n",
      "166  [awt, datatransf, data, flavor, awt, datatrans...   \n",
      "595  [util, list, util, object, util, option, util,...   \n",
      "..                                                 ...   \n",
      "715  [io, ioexcept, net, url, util, object, util, o...   \n",
      "767  [util, array, list, util, array, util, collect...   \n",
      "72                                                  []   \n",
      "235                                                 []   \n",
      "37   [awt, border, layout, awt, compon, awt, event,...   \n",
      "\n",
      "                                              Packages  \\\n",
      "418                 [net, sf, jabref, logic, exporter]   \n",
      "288              [net, sf, jabref, gui, externalfiles]   \n",
      "648  [net, sf, jabref, logic, formatter, bibtexfields]   \n",
      "166                     [net, sf, jabref, gui, groups]   \n",
      "595                   [net, sf, jabref, logic, search]   \n",
      "..                                                 ...   \n",
      "715        [net, sf, jabref, logic, importer, fetcher]   \n",
      "767                    [net, sf, jabref, model, entry]   \n",
      "72                  [net, sf, jabref, gui, openoffice]   \n",
      "235                     [net, sf, jabref, gui, worker]   \n",
      "37            [net, sf, jabref, gui, externalfiletype]   \n",
      "\n",
      "                                               Methods  \n",
      "418                         [compar, get, compar, get]  \n",
      "288  [find, full, text, action, init, run, updat, g...  \n",
      "648  [get, name, get, key, format, get, descript, g...  \n",
      "166  [string, group, tree, node, view, model, get, ...  \n",
      "595  [add, search, listen, remov, search, listen, f...  \n",
      "..                                                 ...  \n",
      "715  [find, full, text, get, log, requir, non, null...  \n",
      "767  [keyword, list, keyword, list, keyword, list, ...  \n",
      "72                                  [creation, except]  \n",
      "235                                                 []  \n",
      "37   [action, perform, get, action, get, action, ac...  \n",
      "\n",
      "[84 rows x 3 columns]\n",
      "     Label\n",
      "418  LOGIC\n",
      "288    GUI\n",
      "648  LOGIC\n",
      "166    GUI\n",
      "595  LOGIC\n",
      "..     ...\n",
      "715  LOGIC\n",
      "767  MODEL\n",
      "72     GUI\n",
      "235    GUI\n",
      "37     GUI\n",
      "\n",
      "[84 rows x 1 columns]\n"
     ]
    },
    {
     "ename": "SystemError",
     "evalue": "<built-in method view of numpy.ndarray object at 0x7ff475b0f990> returned a result with an error set",
     "output_type": "error",
     "traceback": [
      "\u001b[0;31m---------------------------------------------------------------------------\u001b[0m",
      "\u001b[0;31mTypeError\u001b[0m                                 Traceback (most recent call last)",
      "\u001b[0;31mTypeError\u001b[0m: unhashable type: 'list'",
      "\nThe above exception was the direct cause of the following exception:\n",
      "\u001b[0;31mSystemError\u001b[0m                               Traceback (most recent call last)",
      "\u001b[0;32m<ipython-input-10-855444a4bb71>\u001b[0m in \u001b[0;36m<module>\u001b[0;34m\u001b[0m\n\u001b[1;32m      3\u001b[0m \u001b[0mprint\u001b[0m\u001b[0;34m(\u001b[0m\u001b[0mX_train\u001b[0m\u001b[0;34m)\u001b[0m\u001b[0;34m\u001b[0m\u001b[0;34m\u001b[0m\u001b[0m\n\u001b[1;32m      4\u001b[0m \u001b[0mprint\u001b[0m\u001b[0;34m(\u001b[0m\u001b[0my_train\u001b[0m\u001b[0;34m)\u001b[0m\u001b[0;34m\u001b[0m\u001b[0;34m\u001b[0m\u001b[0m\n\u001b[0;32m----> 5\u001b[0;31m \u001b[0mhist\u001b[0m \u001b[0;34m=\u001b[0m \u001b[0mClassHistogram\u001b[0m\u001b[0;34m(\u001b[0m\u001b[0;34m)\u001b[0m\u001b[0;34m.\u001b[0m\u001b[0mexplain_data\u001b[0m\u001b[0;34m(\u001b[0m\u001b[0mX_train\u001b[0m\u001b[0;34m,\u001b[0m \u001b[0my_train\u001b[0m\u001b[0;34m,\u001b[0m \u001b[0mname\u001b[0m \u001b[0;34m=\u001b[0m \u001b[0;34m'Train Data'\u001b[0m\u001b[0;34m)\u001b[0m\u001b[0;34m\u001b[0m\u001b[0;34m\u001b[0m\u001b[0m\n\u001b[0m\u001b[1;32m      6\u001b[0m \u001b[0mshow\u001b[0m\u001b[0;34m(\u001b[0m\u001b[0mhist\u001b[0m\u001b[0;34m)\u001b[0m\u001b[0;34m\u001b[0m\u001b[0;34m\u001b[0m\u001b[0m\n",
      "\u001b[0;32m~/dotfiles/python_venvs/exjobb_labEnv/lib/python3.8/site-packages/interpret/data/response.py\u001b[0m in \u001b[0;36mexplain_data\u001b[0;34m(self, X, y, name)\u001b[0m\n\u001b[1;32m    294\u001b[0m             \u001b[0mname\u001b[0m \u001b[0;34m=\u001b[0m \u001b[0mgen_name_from_class\u001b[0m\u001b[0;34m(\u001b[0m\u001b[0mself\u001b[0m\u001b[0;34m)\u001b[0m\u001b[0;34m\u001b[0m\u001b[0;34m\u001b[0m\u001b[0m\n\u001b[1;32m    295\u001b[0m \u001b[0;34m\u001b[0m\u001b[0m\n\u001b[0;32m--> 296\u001b[0;31m         X, y, self.feature_names, self.feature_types = unify_data(\n\u001b[0m\u001b[1;32m    297\u001b[0m             \u001b[0mX\u001b[0m\u001b[0;34m,\u001b[0m \u001b[0my\u001b[0m\u001b[0;34m,\u001b[0m \u001b[0mself\u001b[0m\u001b[0;34m.\u001b[0m\u001b[0mfeature_names\u001b[0m\u001b[0;34m,\u001b[0m \u001b[0mself\u001b[0m\u001b[0;34m.\u001b[0m\u001b[0mfeature_types\u001b[0m\u001b[0;34m\u001b[0m\u001b[0;34m\u001b[0m\u001b[0m\n\u001b[1;32m    298\u001b[0m         )\n",
      "\u001b[0;32m~/dotfiles/python_venvs/exjobb_labEnv/lib/python3.8/site-packages/interpret/utils/all.py\u001b[0m in \u001b[0;36munify_data\u001b[0;34m(data, labels, feature_names, feature_types, missing_data_allowed)\u001b[0m\n\u001b[1;32m    289\u001b[0m         \u001b[0;32mif\u001b[0m \u001b[0mfeature_types\u001b[0m \u001b[0;32mis\u001b[0m \u001b[0;32mNone\u001b[0m\u001b[0;34m:\u001b[0m\u001b[0;34m\u001b[0m\u001b[0;34m\u001b[0m\u001b[0m\n\u001b[1;32m    290\u001b[0m             \u001b[0;31m# unique_counts = np.apply_along_axis(lambda a: len(set(a)), axis=0, arr=data)\u001b[0m\u001b[0;34m\u001b[0m\u001b[0;34m\u001b[0m\u001b[0;34m\u001b[0m\u001b[0m\n\u001b[0;32m--> 291\u001b[0;31m             \u001b[0mbool_indicator\u001b[0m \u001b[0;34m=\u001b[0m \u001b[0;34m[\u001b[0m\u001b[0mdata\u001b[0m\u001b[0;34m[\u001b[0m\u001b[0mcol\u001b[0m\u001b[0;34m]\u001b[0m\u001b[0;34m.\u001b[0m\u001b[0misin\u001b[0m\u001b[0;34m(\u001b[0m\u001b[0;34m[\u001b[0m\u001b[0mnp\u001b[0m\u001b[0;34m.\u001b[0m\u001b[0mnan\u001b[0m\u001b[0;34m,\u001b[0m \u001b[0;36m0\u001b[0m\u001b[0;34m,\u001b[0m \u001b[0;36m1\u001b[0m\u001b[0;34m]\u001b[0m\u001b[0;34m)\u001b[0m\u001b[0;34m.\u001b[0m\u001b[0mall\u001b[0m\u001b[0;34m(\u001b[0m\u001b[0;34m)\u001b[0m \u001b[0;32mfor\u001b[0m \u001b[0mcol\u001b[0m \u001b[0;32min\u001b[0m \u001b[0mdata\u001b[0m\u001b[0;34m.\u001b[0m\u001b[0mcolumns\u001b[0m\u001b[0;34m]\u001b[0m\u001b[0;34m\u001b[0m\u001b[0;34m\u001b[0m\u001b[0m\n\u001b[0m\u001b[1;32m    292\u001b[0m             new_feature_types = [\n\u001b[1;32m    293\u001b[0m                 \u001b[0m_assign_feature_type\u001b[0m\u001b[0;34m(\u001b[0m\u001b[0mfeature_type\u001b[0m\u001b[0;34m,\u001b[0m \u001b[0mbool_indicator\u001b[0m\u001b[0;34m[\u001b[0m\u001b[0mindex\u001b[0m\u001b[0;34m]\u001b[0m\u001b[0;34m)\u001b[0m\u001b[0;34m\u001b[0m\u001b[0;34m\u001b[0m\u001b[0m\n",
      "\u001b[0;32m~/dotfiles/python_venvs/exjobb_labEnv/lib/python3.8/site-packages/interpret/utils/all.py\u001b[0m in \u001b[0;36m<listcomp>\u001b[0;34m(.0)\u001b[0m\n\u001b[1;32m    289\u001b[0m         \u001b[0;32mif\u001b[0m \u001b[0mfeature_types\u001b[0m \u001b[0;32mis\u001b[0m \u001b[0;32mNone\u001b[0m\u001b[0;34m:\u001b[0m\u001b[0;34m\u001b[0m\u001b[0;34m\u001b[0m\u001b[0m\n\u001b[1;32m    290\u001b[0m             \u001b[0;31m# unique_counts = np.apply_along_axis(lambda a: len(set(a)), axis=0, arr=data)\u001b[0m\u001b[0;34m\u001b[0m\u001b[0;34m\u001b[0m\u001b[0;34m\u001b[0m\u001b[0m\n\u001b[0;32m--> 291\u001b[0;31m             \u001b[0mbool_indicator\u001b[0m \u001b[0;34m=\u001b[0m \u001b[0;34m[\u001b[0m\u001b[0mdata\u001b[0m\u001b[0;34m[\u001b[0m\u001b[0mcol\u001b[0m\u001b[0;34m]\u001b[0m\u001b[0;34m.\u001b[0m\u001b[0misin\u001b[0m\u001b[0;34m(\u001b[0m\u001b[0;34m[\u001b[0m\u001b[0mnp\u001b[0m\u001b[0;34m.\u001b[0m\u001b[0mnan\u001b[0m\u001b[0;34m,\u001b[0m \u001b[0;36m0\u001b[0m\u001b[0;34m,\u001b[0m \u001b[0;36m1\u001b[0m\u001b[0;34m]\u001b[0m\u001b[0;34m)\u001b[0m\u001b[0;34m.\u001b[0m\u001b[0mall\u001b[0m\u001b[0;34m(\u001b[0m\u001b[0;34m)\u001b[0m \u001b[0;32mfor\u001b[0m \u001b[0mcol\u001b[0m \u001b[0;32min\u001b[0m \u001b[0mdata\u001b[0m\u001b[0;34m.\u001b[0m\u001b[0mcolumns\u001b[0m\u001b[0;34m]\u001b[0m\u001b[0;34m\u001b[0m\u001b[0;34m\u001b[0m\u001b[0m\n\u001b[0m\u001b[1;32m    292\u001b[0m             new_feature_types = [\n\u001b[1;32m    293\u001b[0m                 \u001b[0m_assign_feature_type\u001b[0m\u001b[0;34m(\u001b[0m\u001b[0mfeature_type\u001b[0m\u001b[0;34m,\u001b[0m \u001b[0mbool_indicator\u001b[0m\u001b[0;34m[\u001b[0m\u001b[0mindex\u001b[0m\u001b[0;34m]\u001b[0m\u001b[0;34m)\u001b[0m\u001b[0;34m\u001b[0m\u001b[0;34m\u001b[0m\u001b[0m\n",
      "\u001b[0;32m~/dotfiles/python_venvs/exjobb_labEnv/lib/python3.8/site-packages/pandas/core/series.py\u001b[0m in \u001b[0;36misin\u001b[0;34m(self, values)\u001b[0m\n\u001b[1;32m   4663\u001b[0m         \u001b[0mdtype\u001b[0m\u001b[0;34m:\u001b[0m \u001b[0mbool\u001b[0m\u001b[0;34m\u001b[0m\u001b[0;34m\u001b[0m\u001b[0m\n\u001b[1;32m   4664\u001b[0m         \"\"\"\n\u001b[0;32m-> 4665\u001b[0;31m         \u001b[0mresult\u001b[0m \u001b[0;34m=\u001b[0m \u001b[0malgorithms\u001b[0m\u001b[0;34m.\u001b[0m\u001b[0misin\u001b[0m\u001b[0;34m(\u001b[0m\u001b[0mself\u001b[0m\u001b[0;34m.\u001b[0m\u001b[0m_values\u001b[0m\u001b[0;34m,\u001b[0m \u001b[0mvalues\u001b[0m\u001b[0;34m)\u001b[0m\u001b[0;34m\u001b[0m\u001b[0;34m\u001b[0m\u001b[0m\n\u001b[0m\u001b[1;32m   4666\u001b[0m         return self._constructor(result, index=self.index).__finalize__(\n\u001b[1;32m   4667\u001b[0m             \u001b[0mself\u001b[0m\u001b[0;34m,\u001b[0m \u001b[0mmethod\u001b[0m\u001b[0;34m=\u001b[0m\u001b[0;34m\"isin\"\u001b[0m\u001b[0;34m\u001b[0m\u001b[0;34m\u001b[0m\u001b[0m\n",
      "\u001b[0;32m~/dotfiles/python_venvs/exjobb_labEnv/lib/python3.8/site-packages/pandas/core/algorithms.py\u001b[0m in \u001b[0;36misin\u001b[0;34m(comps, values)\u001b[0m\n\u001b[1;32m    491\u001b[0m         \u001b[0mf\u001b[0m \u001b[0;34m=\u001b[0m \u001b[0mgetattr\u001b[0m\u001b[0;34m(\u001b[0m\u001b[0mhtable\u001b[0m\u001b[0;34m,\u001b[0m \u001b[0;34mf\"ismember_{name}\"\u001b[0m\u001b[0;34m)\u001b[0m\u001b[0;34m\u001b[0m\u001b[0;34m\u001b[0m\u001b[0m\n\u001b[1;32m    492\u001b[0m \u001b[0;34m\u001b[0m\u001b[0m\n\u001b[0;32m--> 493\u001b[0;31m     \u001b[0;32mreturn\u001b[0m \u001b[0mf\u001b[0m\u001b[0;34m(\u001b[0m\u001b[0mcomps\u001b[0m\u001b[0;34m,\u001b[0m \u001b[0mvalues\u001b[0m\u001b[0;34m)\u001b[0m\u001b[0;34m\u001b[0m\u001b[0;34m\u001b[0m\u001b[0m\n\u001b[0m\u001b[1;32m    494\u001b[0m \u001b[0;34m\u001b[0m\u001b[0m\n\u001b[1;32m    495\u001b[0m \u001b[0;34m\u001b[0m\u001b[0m\n",
      "\u001b[0;32mpandas/_libs/hashtable_func_helper.pxi\u001b[0m in \u001b[0;36mpandas._libs.hashtable.ismember_object\u001b[0;34m()\u001b[0m\n",
      "\u001b[0;31mSystemError\u001b[0m: <built-in method view of numpy.ndarray object at 0x7ff475b0f990> returned a result with an error set"
     ]
    }
   ],
   "source": [
    "from interpret import show\n",
    "from interpret.data import ClassHistogram\n",
    "print(X_train)\n",
    "print(y_train)\n",
    "hist = ClassHistogram().explain_data(X_train, y_train, name = 'Train Data')\n",
    "show(hist)"
   ]
  },
  {
   "cell_type": "code",
   "execution_count": null,
   "id": "restricted-rogers",
   "metadata": {},
   "outputs": [],
   "source": [
    "from interpret.glassbox import ExplainableBoostingClassifier, LogisticRegression, ClassificationTree, DecisionListClassifier\n",
    "\n",
    "ebm = ExplainableBoostingClassifier(random_state=seed, n_jobs=-1)\n",
    "ebm.fit(X_train, y_train)   #Works on dataframes and numpy arrays"
   ]
  }
 ],
 "metadata": {
  "kernelspec": {
   "display_name": "Python 3",
   "language": "python",
   "name": "python3"
  },
  "language_info": {
   "codemirror_mode": {
    "name": "ipython",
    "version": 3
   },
   "file_extension": ".py",
   "mimetype": "text/x-python",
   "name": "python",
   "nbconvert_exporter": "python",
   "pygments_lexer": "ipython3",
   "version": "3.8.5"
  }
 },
 "nbformat": 4,
 "nbformat_minor": 5
}
