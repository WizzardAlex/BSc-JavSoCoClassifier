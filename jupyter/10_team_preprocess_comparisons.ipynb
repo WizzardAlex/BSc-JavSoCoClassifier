{
 "cells": [
  {
   "cell_type": "code",
   "execution_count": 2,
   "id": "laden-swift",
   "metadata": {
    "tags": []
   },
   "outputs": [
    {
     "name": "stderr",
     "output_type": "stream",
     "text": [
      "2021-03-26 11:01:41,044\tINFO worker.py:666 -- Calling ray.init() again after it has already been called.\n"
     ]
    }
   ],
   "source": [
    "# Imports and scripts\n",
    "#import pandas as pd\n",
    "import modin.pandas as pd\n",
    "import numpy as np\n",
    "import matplotlib.pyplot as plt\n",
    "from sklearn.metrics import plot_confusion_matrix\n",
    "from sklearn.feature_extraction.text import CountVectorizer\n",
    "import pathmagic\n",
    "%matplotlib inline\n",
    "with pathmagic.context():\n",
    "    import Preprocess as Prep\n",
    "    import RelativePaths as RP\n",
    "    import Evaluation as Eva\n",
    "    import Graphs\n",
    "    import Utils\n",
    "    import GatherData as Gather\n",
    "import ray\n",
    "ray.init(ignore_reinit_error=True)\n",
    "Gather.gather_team_mates_data()"
   ]
  },
  {
   "cell_type": "code",
   "execution_count": 3,
   "id": "aquatic-proxy",
   "metadata": {
    "tags": []
   },
   "outputs": [
    {
     "name": "stderr",
     "output_type": "stream",
     "text": [
      "UserWarning: Distributing <class 'dict'> object. This may take some time.\n",
      "UserWarning: sort_values defaulting to pandas implementation.\n",
      "To request implementation, send an email to feature_requests@modin.org.\n"
     ]
    },
    {
     "data": {
      "text/plain": [
       "Text(0.5, 1.0, 'Shows the number of files for every label, from JabRef')"
      ]
     },
     "execution_count": 3,
     "metadata": {},
     "output_type": "execute_result"
    },
    {
     "data": {
      "image/png": "[encoded data removed]",
      "text/plain": [
       "<Figure size 432x288 with 1 Axes>"
      ]
     },
     "metadata": {},
     "output_type": "display_data"
    }
   ],
   "source": [
    "dataset_df = pd.read_csv(str(RP.getRawDataSet()))\n",
    "y_labels = dataset_df.Label.unique()\n",
    "x_quantity = [len(dataset_df.loc[dataset_df['Label']==label]) for label in y_labels]\n",
    "tmp_df = pd.DataFrame({\n",
    "    'Labels' : y_labels,\n",
    "    'Quantity' : x_quantity\n",
    "})\n",
    "tmp_df = tmp_df.sort_values(by=['Quantity'])\n",
    "plt.style.use(\"seaborn-whitegrid\")\n",
    "plt.barh(y=tmp_df.Labels, width=tmp_df.Quantity)\n",
    "for i, v in enumerate(tmp_df.Quantity):\n",
    "    plt.text(v, i, str(v), color='black', fontweight='bold', ha='left', va='center')\n",
    "\n",
    "plt.xlabel('Quantities')\n",
    "plt.ylabel('Labels')\n",
    "plt.title('Shows the number of files for every label, from JabRef')"
   ]
  },
  {
   "cell_type": "code",
   "execution_count": null,
   "id": "removable-delight",
   "metadata": {
    "tags": []
   },
   "outputs": [],
   "source": [
    "test_file = '../Data/test.csv'\n",
    "\"\"\"\n",
    "settings matrix\n",
    "\"\"\"\n",
    "# maxent \n",
    "s0 = [\n",
    "    ['lib', 'tow', 'jk', 'scw','lc', 'stem'],\n",
    "    ['pac', 'tow', 'jk'],\n",
    "    ]\n",
    "\n",
    "s1 = [\n",
    "    ['lib', 'tow', 'jk', 'scw','lc', 'stem'],\n",
    "    ['pac',  'tow', 'jk'],\n",
    "    ['com', 'tow', 'jk', 'scw', 'lc', 'sw'],\n",
    "]\n",
    "\n",
    "# Interestting results\n",
    "s2 = [\n",
    "    ['lib', 'tow', 'jk', 'scw','lc', 'sw', 'stem'],\n",
    "    ['pac', 'tow', 'jk', 'scw','lc', 'sw', 'stem'],\n",
    "    ['pm', 'tow', 'jk', 'scw','lc', 'sw', 'stem'],\n",
    "    ['pv', 'tow', 'jk', 'scw','lc', 'sw', 'stem'],\n",
    "    ['com', 'tow', 'jk', 'scw','lc', 'sw', 'stem'],\n",
    "    ['c', 'tow', 'jk', 'scw','lc', 'sw', 'stem'],\n",
    "]\n",
    "\n",
    "s3 = [\n",
    "    ['pac', 'tow', 'jk'],\n",
    "    ['lib', 'tow', 'scw', 'jk', 'lc', 'stem'],\n",
    "    ['pm', 'tow', 'scw', 'jk', 'lc', 'sw'],\n",
    "]\n",
    "s4 = [ \n",
    "    ['lib', 'tow', 'scw', 'jk', 'lc', 'stem'],\n",
    "    ['pac', 'tow', 'jk',],\n",
    "    ['c', 'tow', 'jk', 'scw','lc', 'sw', 'stem'],\n",
    "    ['pm', 'tow', 'scw', 'jk', 'lc', 'sw', 'stem'],\n",
    "    ['pv', 'tow', 'jk', 'scw','lc', 'sw', 'stem'],\n",
    "]\n",
    "s5 = [\n",
    "    ['lib', 'tow', 'jk', 'scw','lc', 'sw', 'stem'],\n",
    "    ['pac', 'tow', 'jk'],\n",
    "    ['pm', 'tow', 'jk', 'scw','lc', 'sw'],\n",
    "    ['pv', 'tow', 'jk', 'scw','lc', 'sw', 'stem'],\n",
    "    ['com', 'tow', 'jk', 'scw','lc', 'sw', 'stem'],\n",
    "    ['c', 'tow', 'jk', 'scw','lc', 'sw', 'stem'],\n",
    "]\n",
    "s6 = [\n",
    "    ['lib', 'tow', 'jk', 'scw','lc', 'sw', 'stem'],\n",
    "    ['pac', 'tow', 'jk'],\n",
    "    ['pm', 'tow', 'jk', 'scw','lc', 'sw'],\n",
    "    ['pv', 'tow', 'jk', 'scw','lc', 'sw'],\n",
    "    ['com', 'tow', 'jk', 'scw','lc', 'sw', 'stem'],\n",
    "    ['c', 'tow', 'jk', 'scw','lc', 'sw'],\n",
    "]\n",
    "s7 = [\n",
    "    ['lib', 'tow', 'jk', 'scw','lc', 'sw', 'stem'],\n",
    "    ['pac', 'tow', 'jk'],\n",
    "    ['pm', 'tow', 'jk', 'scw','lc' ],\n",
    "    ['pv', 'tow', 'jk', 'scw','lc' ],\n",
    "    ['com', 'tow', 'jk', 'scw','lc', 'sw', 'stem'],\n",
    "    ['c', 'tow', 'jk', 'scw','lc'],\n",
    "]\n",
    "\n",
    "settings_matrix = [s0, s1, s2, s3, s4 ,s5, s6, s7]"
   ]
  },
  {
   "cell_type": "code",
   "execution_count": null,
   "id": "paperback-ordinary",
   "metadata": {
    "tags": []
   },
   "outputs": [],
   "source": [
    "def make_datafram_row(metrics, setting: list, setting_id: int ):\n",
    "    report = metrics.get_classification_report()\n",
    "    quantity_table = metrics.quantity_table()\n",
    "    setting_id = 's' + str(setting_id)\n",
    "    row = {\n",
    "        'classifier': [metrics.name],\n",
    "        'setting_id': [setting_id],\n",
    "        'settings': [setting],\n",
    "        'accuracy': [report['accuracy']],\n",
    "        'w_avg_precision': [report['weighted avg']['precision']],\n",
    "        'w_avg_recall': [report['weighted avg']['recall']],\n",
    "        'train_size': [quantity_table['Train'].sum()], \n",
    "        'test_size': [quantity_table['Test'].sum()], \n",
    "        'report_table': [metrics.total_report_table()] \n",
    "    }\n",
    "    df_row = pd.DataFrame(row)\n",
    "    return df_row"
   ]
  },
  {
   "cell_type": "code",
   "execution_count": null,
   "id": "banner-palestinian",
   "metadata": {
    "tags": []
   },
   "outputs": [],
   "source": [
    "df_columns = [\n",
    "    'classifier',\n",
    "    'setting_id',\n",
    "    'settings', \n",
    "    'accuracy', \n",
    "    'w_avg_precision', \n",
    "    'w_avg_recall', \n",
    "    'train_size', \n",
    "    'test_size', \n",
    "    'report_table' \n",
    "]\n",
    "main_table = pd.DataFrame(columns=df_columns)\n",
    "test_size=0.9\n",
    "fold_quantity = 10\n",
    "\n",
    "for index, setting in enumerate(settings_matrix):\n",
    "    Prep.preprocess_settings(setting, test_file)\n",
    "    test_df = pd.read_csv(test_file)\n",
    "\n",
    "    # Remove GLOBALS and CLI from the dataset\n",
    "    df_sliced = Utils.remove_concerns_under_quantity_threshold(test_df)\n",
    "\n",
    "    feature_representation = CountVectorizer()\n",
    "    confusion_list = []\n",
    "\n",
    "    # Train and gather evaluation metrics\n",
    "    evaluate = Eva.Evaluation(df_sliced, feature_representation, test_size, fold_quantity, 10)\n",
    "    classifier_max_ent , metrics_max_ent = evaluate.evaluate_MaxEnt()\n",
    "    classifier_svm , metrics_svm = evaluate.evaluate_SVM()\n",
    "    classifier_naive, metrics_naive = evaluate.evaluate_Naive_Bayes()\n",
    "    \n",
    "    \n",
    "    df_row = make_datafram_row(metrics_max_ent, setting, index)\n",
    "    main_table = main_table.append(df_row)\n",
    "\n",
    "    df_row = make_datafram_row(metrics_svm, setting, index)\n",
    "    main_table = main_table.append(df_row)\n",
    "    \n",
    "    df_row = make_datafram_row(metrics_naive, setting, index)\n",
    "    main_table = main_table.append(df_row)\n",
    "\n",
    "main_table = main_table.reset_index(drop=True)\n",
    "main_table.to_csv('../Data/analysis.csv')"
   ]
  },
  {
   "cell_type": "code",
   "execution_count": null,
   "id": "ethical-double",
   "metadata": {
    "jupyter": {
     "source_hidden": true
    },
    "tags": []
   },
   "outputs": [],
   "source": [
    "main_table"
   ]
  },
  {
   "cell_type": "code",
   "execution_count": null,
   "id": "advance-baker",
   "metadata": {},
   "outputs": [],
   "source": [
    "print(main_table)\n",
    "\n",
    "df = pd.read_csv('../Data/analysis.csv')\n",
    "df.sort_values(by='accuracy',ascending=[False])"
   ]
  }
 ],
 "metadata": {
  "kernelspec": {
   "display_name": "Python 3",
   "language": "python",
   "name": "python3"
  },
  "language_info": {
   "codemirror_mode": {
    "name": "ipython",
    "version": 3
   },
   "file_extension": ".py",
   "mimetype": "text/x-python",
   "name": "python",
   "nbconvert_exporter": "python",
   "pygments_lexer": "ipython3",
   "version": "3.8.5"
  }
 },
 "nbformat": 4,
 "nbformat_minor": 5
}
